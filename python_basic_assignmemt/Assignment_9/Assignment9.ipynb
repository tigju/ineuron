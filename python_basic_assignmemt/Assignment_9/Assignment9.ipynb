{
 "cells": [
  {
   "cell_type": "markdown",
   "id": "03613a29-dcdc-47be-9aa4-a1bdbb4c39ac",
   "metadata": {},
   "source": [
    "#### Assignment 9"
   ]
  },
  {
   "cell_type": "markdown",
   "id": "0a7c0527-9909-49df-b8a6-63b81d48b6a2",
   "metadata": {},
   "source": [
    "##### 1. To what does a relative path refer?\n",
    "It refers to a current directory.\n"
   ]
  },
  {
   "cell_type": "markdown",
   "id": "e75242c3-59e9-4b21-8c4e-ec856a60fe3d",
   "metadata": {},
   "source": [
    "##### 2. What does an absolute path start with your operating system?\n",
    "It starts with the root directory of the operating system.\n"
   ]
  },
  {
   "cell_type": "markdown",
   "id": "01e284c5-269a-454e-b8ad-59fccf07b9e5",
   "metadata": {},
   "source": [
    "##### 3. What do the functions os.getcwd() and os.chdir() do?\n",
    "os.getcwd() returns current directory, os.chdir() changes the directory.\n"
   ]
  },
  {
   "cell_type": "code",
   "execution_count": 1,
   "id": "f2f67375-117a-47ab-8a95-47097658d474",
   "metadata": {},
   "outputs": [
    {
     "data": {
      "text/plain": [
       "'C:\\\\Users\\\\tigju\\\\Documents\\\\work\\\\ineuron_camp\\\\ineuron\\\\python_basic_assignmemt\\\\Assignment_9'"
      ]
     },
     "execution_count": 1,
     "metadata": {},
     "output_type": "execute_result"
    }
   ],
   "source": [
    "import os\n",
    "os.getcwd()"
   ]
  },
  {
   "cell_type": "markdown",
   "id": "12889d0c-97d2-4145-8ead-a41bf020b75b",
   "metadata": {},
   "source": [
    "##### 4. What are the . and .. folders?\n",
    "'.' is the current folder, '..' is the parent folder.\n"
   ]
  },
  {
   "cell_type": "markdown",
   "id": "494cd2f8-94af-46fc-bf6a-f7763b510467",
   "metadata": {},
   "source": [
    "##### 5. In C:\\bacon\\eggs\\spam.txt, which part is the dir name, and which part is the base name?\n",
    "Dir name is C:\\bacon\\eggs, base file name is spam.txt\n"
   ]
  },
  {
   "cell_type": "markdown",
   "id": "50b11e06-5804-4591-bca5-739e0ec619a3",
   "metadata": {},
   "source": [
    "##### 6. What are the three “mode” arguments that can be passed to the open() function?\n",
    "'r' for read, 'w' for write, 'a' for append.\n"
   ]
  },
  {
   "cell_type": "markdown",
   "id": "8d527e56-4344-4fcb-9545-b6aa99912789",
   "metadata": {},
   "source": [
    "##### 7. What happens if an existing file is opened in write mode?\n",
    "The file is getting truncated and new file is created.\n"
   ]
  },
  {
   "cell_type": "markdown",
   "id": "fa85ac85-67cf-49f6-b4e2-02a6da620c0c",
   "metadata": {},
   "source": [
    "##### 8. How do you tell the difference between read() and readlines()?\n",
    "read() will return the whole file content as a string. <br> readlines() will read line by line and return a list of lines as strings.\n"
   ]
  },
  {
   "cell_type": "markdown",
   "id": "5b7f0654-e155-45d2-a39c-806c038bd9f9",
   "metadata": {},
   "source": [
    "##### 9. What data structure does a shelf value resemble?\n",
    "Shelf is similar to dictionary that has key-value pairs."
   ]
  },
  {
   "cell_type": "code",
   "execution_count": null,
   "id": "23b0ab0c-3ae9-44f7-9c80-b731a3d1ea8c",
   "metadata": {},
   "outputs": [],
   "source": []
  }
 ],
 "metadata": {
  "kernelspec": {
   "display_name": "Python 3 (ipykernel)",
   "language": "python",
   "name": "python3"
  },
  "language_info": {
   "codemirror_mode": {
    "name": "ipython",
    "version": 3
   },
   "file_extension": ".py",
   "mimetype": "text/x-python",
   "name": "python",
   "nbconvert_exporter": "python",
   "pygments_lexer": "ipython3",
   "version": "3.7.11"
  }
 },
 "nbformat": 4,
 "nbformat_minor": 5
}
