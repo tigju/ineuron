{
 "cells": [
  {
   "cell_type": "markdown",
   "id": "638b8326-f1dc-4f60-ae1a-366d8263821a",
   "metadata": {},
   "source": [
    "#### Assignment 6"
   ]
  },
  {
   "cell_type": "markdown",
   "id": "58df35db-f29b-4c28-b902-fc3e5390642f",
   "metadata": {},
   "source": [
    "##### 1. What are escape characters, and how do you use them?\n",
    "Escape character is a backslash character \\ , you use it in front of the characters that you cannot type in code."
   ]
  },
  {
   "cell_type": "markdown",
   "id": "651c70df-1a6b-4db0-a73c-78dc8cf59c5d",
   "metadata": {},
   "source": [
    "##### 2. What do the escape characters n and t stand for?\n",
    "\\n is a new line, \\t is tab indent."
   ]
  },
  {
   "cell_type": "markdown",
   "id": "a1fed296-795d-4180-a18f-3630afdf10a5",
   "metadata": {},
   "source": [
    "##### 3. What is the way to include backslash characters in a string?\n",
    "You need to type double backslash \\\\\\\n"
   ]
  },
  {
   "cell_type": "markdown",
   "id": "a0220390-c572-40aa-99ed-fbf3b6f06b63",
   "metadata": {},
   "source": [
    "##### 4. The string \"Howl's Moving Castle\" is a correct value. Why isn't the single quote character in the word Howl's not escaped a problem?\n",
    "Because the string wrapped in double quotes, if it would be wrapped in a single quotes, you would have to use an escape character.\n"
   ]
  },
  {
   "cell_type": "markdown",
   "id": "41c08ba6-08a4-41d6-af81-85966f2617c4",
   "metadata": {},
   "source": [
    "##### 5. How do you write a string of newlines if you don't want to use the n character?\n",
    "You can use new lines in strings without \\n character.\n"
   ]
  },
  {
   "cell_type": "markdown",
   "id": "3aa5a1b5-1888-4400-be92-e0d1ddf8dab8",
   "metadata": {},
   "source": [
    "##### 6. What are the values of the given expressions?\n",
    "'Hello, world!'[1] -> 'e' <br/>\n",
    "'Hello, world!'[0:5] -> 'Hello' <br/>\n",
    "'Hello, world!'[:5] -> 'Hello' <br/>\n",
    "'Hello, world!'[3:] -> 'lo, world!' <br/>"
   ]
  },
  {
   "cell_type": "code",
   "execution_count": 3,
   "id": "07bdc8b7-abe2-4b78-adb4-1f10550b387e",
   "metadata": {},
   "outputs": [
    {
     "name": "stdout",
     "output_type": "stream",
     "text": [
      "e\n",
      "Hello\n",
      "Hello\n",
      "lo, world!\n"
     ]
    }
   ],
   "source": [
    "print('Hello, world!'[1])\n",
    "print('Hello, world!'[0:5])\n",
    "print('Hello, world!'[:5])\n",
    "print('Hello, world!'[3:])"
   ]
  },
  {
   "cell_type": "markdown",
   "id": "5473827f-3bfc-4de3-90f4-37631633ca16",
   "metadata": {},
   "source": [
    "##### 7. What are the values of the following expressions?\n",
    "'Hello'.upper() -> 'HELLO' <br/>\n",
    "'Hello'.upper().isupper() -> True <br/>\n",
    "'Hello'.upper().lower() -> 'hello' <br/>\n"
   ]
  },
  {
   "cell_type": "code",
   "execution_count": 5,
   "id": "5d3c2c3d-c341-44e6-be2b-757acf934a57",
   "metadata": {},
   "outputs": [
    {
     "name": "stdout",
     "output_type": "stream",
     "text": [
      "HELLO\n",
      "True\n",
      "hello\n"
     ]
    }
   ],
   "source": [
    "print('Hello'.upper())\n",
    "print('Hello'.upper().isupper())\n",
    "print('Hello'.upper().lower())"
   ]
  },
  {
   "cell_type": "markdown",
   "id": "f318c2b6-c108-4a88-af22-1149793ef870",
   "metadata": {},
   "source": [
    "##### 8. What are the values of the following expressions?\n",
    "'Remember, remember, the fifth of July.'.split() -> [‘Remember,’ , ‘remember,’ , ‘the’, ‘fifth’, ‘of’, ‘July.’] <br />\n",
    "'-'.join('There can only one.'.split()) -> ‘There-can-only-one.’\n"
   ]
  },
  {
   "cell_type": "code",
   "execution_count": 7,
   "id": "423fc162-910d-403d-aa30-4bb2b560b2f4",
   "metadata": {},
   "outputs": [
    {
     "name": "stdout",
     "output_type": "stream",
     "text": [
      "['Remember,', 'remember,', 'the', 'fifth', 'of', 'July.']\n",
      "There-can-only-one.\n"
     ]
    }
   ],
   "source": [
    "print('Remember, remember, the fifth of July.'.split())\n",
    "print('-'.join('There can only one.'.split()))"
   ]
  },
  {
   "cell_type": "markdown",
   "id": "2d1d0011-b447-4806-a246-5787c0e858c9",
   "metadata": {},
   "source": [
    "##### 9. What are the methods for right-justifying, left-justifying, and centering a string?\n",
    "rjust(), ljust(), center()\n"
   ]
  },
  {
   "cell_type": "markdown",
   "id": "0f87e282-4d68-4a55-a51a-fde8b41b6933",
   "metadata": {},
   "source": [
    "##### 10. What is the best way to remove whitespace characters from the start or end?\n",
    "strip() (will remove whitespace from left and right), lstrip(), rstrip() "
   ]
  },
  {
   "cell_type": "code",
   "execution_count": null,
   "id": "2357c092-12c4-4dc0-8eb0-cc49741e45ce",
   "metadata": {},
   "outputs": [],
   "source": []
  }
 ],
 "metadata": {
  "kernelspec": {
   "display_name": "Python 3 (ipykernel)",
   "language": "python",
   "name": "python3"
  },
  "language_info": {
   "codemirror_mode": {
    "name": "ipython",
    "version": 3
   },
   "file_extension": ".py",
   "mimetype": "text/x-python",
   "name": "python",
   "nbconvert_exporter": "python",
   "pygments_lexer": "ipython3",
   "version": "3.7.11"
  }
 },
 "nbformat": 4,
 "nbformat_minor": 5
}
