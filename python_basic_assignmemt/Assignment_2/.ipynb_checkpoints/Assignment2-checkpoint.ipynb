{
 "cells": [
  {
   "cell_type": "markdown",
   "id": "c93c1155-1ce7-42a5-b691-ab4b6ab06613",
   "metadata": {},
   "source": [
    "#### Assignment 2"
   ]
  },
  {
   "cell_type": "markdown",
   "id": "2a563324-33a0-4b3b-a398-fd97e4ce0a6d",
   "metadata": {},
   "source": [
    "##### 1.What are the two values of the Boolean data type? How do you write them?\n",
    "True, False. You write them with the first capital letter."
   ]
  },
  {
   "cell_type": "markdown",
   "id": "4d72e381-c8f6-4cc5-a208-011af7a77aee",
   "metadata": {},
   "source": [
    "##### 2. What are the three different types of Boolean operators?\n",
    "and, or, not. <br> Bitwise: &, | , ~"
   ]
  },
  {
   "cell_type": "markdown",
   "id": "51ac0527-da4a-4b86-857d-a31545be5fb8",
   "metadata": {},
   "source": [
    "##### 3. Make a list of each Boolean operator's truth tables (i.e. every possible combination of Boolean values for the operator and what it evaluate )."
   ]
  },
  {
   "cell_type": "code",
   "execution_count": 12,
   "id": "f248fde8-940f-45fa-868f-97e3d670101b",
   "metadata": {},
   "outputs": [
    {
     "name": "stdout",
     "output_type": "stream",
     "text": [
      "True\n",
      "False\n",
      "False\n",
      "False\n"
     ]
    }
   ],
   "source": [
    "# and:\n",
    "# True,  True  -> True\n",
    "# True, False - > False\n",
    "# False, True  -> False\n",
    "# False, False -> False\n",
    "print(True and True)\n",
    "print(True and False)\n",
    "print(False and True)\n",
    "print(False and False)"
   ]
  },
  {
   "cell_type": "code",
   "execution_count": 13,
   "id": "68fb62ad-6f82-4906-94e4-8dce2ad12af8",
   "metadata": {},
   "outputs": [
    {
     "name": "stdout",
     "output_type": "stream",
     "text": [
      "True\n",
      "True\n",
      "True\n",
      "False\n"
     ]
    }
   ],
   "source": [
    "# or:\n",
    "# True, True -> True\n",
    "# True, False -> True\n",
    "# False, True - > True\n",
    "# False, False -> False\n",
    "print(True or True)\n",
    "print(True or False)\n",
    "print(False or True)\n",
    "print(False or False)"
   ]
  },
  {
   "cell_type": "code",
   "execution_count": 14,
   "id": "6b74c472-a65a-4127-8417-00c35565e9de",
   "metadata": {},
   "outputs": [
    {
     "name": "stdout",
     "output_type": "stream",
     "text": [
      "False\n",
      "True\n"
     ]
    }
   ],
   "source": [
    "# not:\n",
    "# True -> False\n",
    "# False -> True\n",
    "print(not True)\n",
    "print(not False)"
   ]
  },
  {
   "cell_type": "markdown",
   "id": "5be7eef2-f2b0-4fb2-8601-4da7dfa51696",
   "metadata": {},
   "source": [
    "##### 4. What are the values of the following expressions?\n",
    "(5 > 4) and (3 == 5)  -> False<br>\n",
    "not (5 > 4) -> False<br>\n",
    "(5 > 4) or (3 == 5) -> True<br>\n",
    "not ((5 > 4) or (3 == 5)) -> False<br>\n",
    "(True and True) and (True == False) -> False<br>\n",
    "(not False) or (not True) -> True"
   ]
  },
  {
   "cell_type": "markdown",
   "id": "06c165fa-2dab-4fff-9593-78f908f124d5",
   "metadata": {},
   "source": [
    "##### 5. What are the six comparison operators?\n",
    "==, >, <, =>, =<, !="
   ]
  },
  {
   "cell_type": "markdown",
   "id": "f9dde072-f98a-46c1-80c7-cd9f24fd6e1d",
   "metadata": {},
   "source": [
    "##### 6. How do you tell the difference between the equal to and assignment operators?Describe a condition and when you would use one.\n",
    "Assignment operator is indicated with one '=' sign and used to assign values to variables. The comparison (equal) operator is indicated by two '==' signs and used to compare values on equality."
   ]
  },
  {
   "cell_type": "markdown",
   "id": "783ccf08-0406-4294-9b4b-37bd2328e27b",
   "metadata": {},
   "source": [
    "##### 7. Identify the three blocks in this code:"
   ]
  },
  {
   "cell_type": "code",
   "execution_count": 2,
   "id": "5db664fd-c5f1-4a6e-9200-c874ea30d503",
   "metadata": {},
   "outputs": [
    {
     "name": "stdout",
     "output_type": "stream",
     "text": [
      "ham\n",
      "spam\n",
      "spam\n"
     ]
    }
   ],
   "source": [
    "spam = 0  \n",
    "# 1st block\n",
    "if spam == 10:     \n",
    "    print('eggs')\n",
    "\n",
    "# 2nd block                \n",
    "if spam > 5:      \n",
    "    print('bacon')\n",
    "\n",
    "# 3rd block\n",
    "else:              \n",
    "    print('ham')       \n",
    "    print('spam')      \n",
    "    print('spam')      "
   ]
  },
  {
   "cell_type": "markdown",
   "id": "70b7d8cd-c8a6-4303-98b4-731f68c7724e",
   "metadata": {},
   "source": [
    "##### 8. Write code that prints Hello if 1 is stored in spam, prints Howdy if 2 is stored in spam, and prints Greetings! if anything else is stored in spam."
   ]
  },
  {
   "cell_type": "code",
   "execution_count": 3,
   "id": "77c577ef-33ae-4d6e-9977-57f2646cb15f",
   "metadata": {},
   "outputs": [
    {
     "name": "stdout",
     "output_type": "stream",
     "text": [
      "Greetings!\n"
     ]
    }
   ],
   "source": [
    "if spam == 1:\n",
    "    print('Hello')\n",
    "if spam == 2:\n",
    "    print('Howdy')\n",
    "else:\n",
    "    print('Greetings!')"
   ]
  },
  {
   "cell_type": "markdown",
   "id": "d7076ac6-a533-4771-8507-54c169ebdbe5",
   "metadata": {},
   "source": [
    "##### 9. If your programme is stuck in an endless loop, what keys you’ll press?\n",
    "Ctrl + C"
   ]
  },
  {
   "cell_type": "markdown",
   "id": "074d7ae3-ed2c-46e1-8dcb-f782b1f65d52",
   "metadata": {},
   "source": [
    "##### 10. How can you tell the difference between break and continue?\n",
    "Break will exit the loop, continue will skip some iteration within the loop."
   ]
  },
  {
   "cell_type": "markdown",
   "id": "f7885d01-b502-4fa2-8d7b-c450ee2391ac",
   "metadata": {},
   "source": [
    "##### 11. In a for loop, what is the difference between range(10), range(0, 10), and range(0, 10, 1)?\n",
    "They are all the same, will print numbers from 0 to 9"
   ]
  },
  {
   "cell_type": "code",
   "execution_count": 4,
   "id": "ca34e985-2075-46ee-825e-f28c208aa95e",
   "metadata": {},
   "outputs": [
    {
     "name": "stdout",
     "output_type": "stream",
     "text": [
      "0\n",
      "1\n",
      "2\n",
      "3\n",
      "4\n",
      "5\n",
      "6\n",
      "7\n",
      "8\n",
      "9\n"
     ]
    }
   ],
   "source": [
    "for i in range(10):\n",
    "    print(i)"
   ]
  },
  {
   "cell_type": "code",
   "execution_count": 5,
   "id": "fa2d8ee4-c7b4-40fd-97fb-e9b9f6bd7b3d",
   "metadata": {},
   "outputs": [
    {
     "name": "stdout",
     "output_type": "stream",
     "text": [
      "0\n",
      "1\n",
      "2\n",
      "3\n",
      "4\n",
      "5\n",
      "6\n",
      "7\n",
      "8\n",
      "9\n"
     ]
    }
   ],
   "source": [
    "for i in range(0,10):\n",
    "    print(i)"
   ]
  },
  {
   "cell_type": "code",
   "execution_count": 6,
   "id": "2eb6dc6c-0c76-407a-9075-1c1f7f4c4ec4",
   "metadata": {},
   "outputs": [
    {
     "name": "stdout",
     "output_type": "stream",
     "text": [
      "0\n",
      "1\n",
      "2\n",
      "3\n",
      "4\n",
      "5\n",
      "6\n",
      "7\n",
      "8\n",
      "9\n"
     ]
    }
   ],
   "source": [
    "for i in range(0,10,1):\n",
    "    print(i)"
   ]
  },
  {
   "cell_type": "markdown",
   "id": "c655984a-a647-4b82-95a9-e191d9df1200",
   "metadata": {},
   "source": [
    "##### 12. Write a short program that prints the numbers 1 to 10 using a for loop. Then write an equivalent program that prints the numbers 1 to 10 using a while loop."
   ]
  },
  {
   "cell_type": "code",
   "execution_count": 8,
   "id": "189d3be2-d26d-406c-9801-5a1b62be25f7",
   "metadata": {},
   "outputs": [
    {
     "name": "stdout",
     "output_type": "stream",
     "text": [
      "1\n",
      "2\n",
      "3\n",
      "4\n",
      "5\n",
      "6\n",
      "7\n",
      "8\n",
      "9\n",
      "10\n"
     ]
    }
   ],
   "source": [
    "# for loop\n",
    "for i in range(1, 11):\n",
    "    print(i)"
   ]
  },
  {
   "cell_type": "code",
   "execution_count": 9,
   "id": "af6cffb8-4f8c-41af-bf56-bf627f1a2536",
   "metadata": {},
   "outputs": [
    {
     "name": "stdout",
     "output_type": "stream",
     "text": [
      "1\n",
      "2\n",
      "3\n",
      "4\n",
      "5\n",
      "6\n",
      "7\n",
      "8\n",
      "9\n",
      "10\n"
     ]
    }
   ],
   "source": [
    "# while loop\n",
    "i = 1\n",
    "while i < 11:\n",
    "    print(i)\n",
    "    i = i + 1"
   ]
  },
  {
   "cell_type": "markdown",
   "id": "0f396e28-1428-4d99-864a-1cfba966df71",
   "metadata": {},
   "source": [
    "##### 13. If you had a function named bacon() inside a module named spam, how would you call it after importing spam?\n",
    "spam.bacon()"
   ]
  },
  {
   "cell_type": "code",
   "execution_count": null,
   "id": "8c0742a1-3e9c-4d80-85a8-1b74af038f13",
   "metadata": {},
   "outputs": [],
   "source": []
  }
 ],
 "metadata": {
  "kernelspec": {
   "display_name": "Python 3",
   "language": "python",
   "name": "python3"
  },
  "language_info": {
   "codemirror_mode": {
    "name": "ipython",
    "version": 3
   },
   "file_extension": ".py",
   "mimetype": "text/x-python",
   "name": "python",
   "nbconvert_exporter": "python",
   "pygments_lexer": "ipython3",
   "version": "3.7.6"
  }
 },
 "nbformat": 4,
 "nbformat_minor": 5
}
