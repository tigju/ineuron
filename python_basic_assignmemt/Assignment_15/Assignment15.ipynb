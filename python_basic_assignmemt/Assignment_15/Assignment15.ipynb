{
 "cells": [
  {
   "cell_type": "markdown",
   "id": "e1702a0e-f220-48c7-be5c-46e7c46432de",
   "metadata": {},
   "source": [
    "#### Assignment 15"
   ]
  },
  {
   "cell_type": "markdown",
   "id": "f1640449-c713-4656-9c08-ce21b3ac1676",
   "metadata": {},
   "source": [
    "##### 1. How many seconds are in an hour? Use the interactive interpreter as a calculator and multiply the number of seconds in a minute (60) by the number of minutes in an hour (also 60)."
   ]
  },
  {
   "cell_type": "code",
   "execution_count": 3,
   "id": "fa2a8d33-a71b-4cda-80b8-bf3dc3e68076",
   "metadata": {},
   "outputs": [
    {
     "data": {
      "text/plain": [
       "3600"
      ]
     },
     "execution_count": 3,
     "metadata": {},
     "output_type": "execute_result"
    }
   ],
   "source": [
    "seconds_in_minute = 60\n",
    "minutes_in_hour = 60\n",
    "seconds_in_minute * minutes_in_hour"
   ]
  },
  {
   "cell_type": "markdown",
   "id": "91163c8b-623a-47dd-8312-574caf978170",
   "metadata": {},
   "source": [
    "##### 2. Assign the result from the previous task (seconds in an hour) to a variable called seconds_per_hour.\n",
    "seconds_per_hour = seconds_in_minute * minutes_in_hour"
   ]
  },
  {
   "cell_type": "code",
   "execution_count": 7,
   "id": "d061e4de-1307-478c-a5dc-dfb05a89f2b7",
   "metadata": {},
   "outputs": [
    {
     "data": {
      "text/plain": [
       "3600"
      ]
     },
     "execution_count": 7,
     "metadata": {},
     "output_type": "execute_result"
    }
   ],
   "source": [
    "seconds_per_hour = seconds_in_minute * minutes_in_hour\n",
    "seconds_per_hour"
   ]
  },
  {
   "cell_type": "markdown",
   "id": "a1a66370-562b-4a3b-bcff-88fda5291c54",
   "metadata": {},
   "source": [
    "##### 3. How many seconds do you think there are in a day? Make use of the variables seconds per hour and minutes per hour.\n",
    "hours_per_day = 24 <br>\n",
    "seconds_per_hour * hours_per_day"
   ]
  },
  {
   "cell_type": "code",
   "execution_count": 8,
   "id": "6d888ff1-16df-46bb-b6b3-ba8e3898c19e",
   "metadata": {},
   "outputs": [
    {
     "data": {
      "text/plain": [
       "86400"
      ]
     },
     "execution_count": 8,
     "metadata": {},
     "output_type": "execute_result"
    }
   ],
   "source": [
    "hours_per_day = 24\n",
    "seconds_per_hour * hours_per_day"
   ]
  },
  {
   "cell_type": "markdown",
   "id": "cabd7e0d-d5a6-48e9-9040-7713f647d082",
   "metadata": {},
   "source": [
    "##### 4. Calculate seconds per day again, but this time save the result in a variable called seconds_per_day\n",
    "seconds_per_day = seconds_per_hour * hours_per_day\n"
   ]
  },
  {
   "cell_type": "code",
   "execution_count": 9,
   "id": "52ccc017-0699-4b01-902c-8c4b8531dff0",
   "metadata": {},
   "outputs": [
    {
     "data": {
      "text/plain": [
       "86400"
      ]
     },
     "execution_count": 9,
     "metadata": {},
     "output_type": "execute_result"
    }
   ],
   "source": [
    "seconds_per_day = seconds_per_hour * hours_per_day\n",
    "seconds_per_day"
   ]
  },
  {
   "cell_type": "markdown",
   "id": "a3a2b4ed-1cfb-4406-bfff-2274a28dc5ae",
   "metadata": {},
   "source": [
    "##### 5. Divide seconds_per_day by seconds_per_hour. Use floating-point (/) division.\n",
    "seconds_per_day / seconds_per_hour\n"
   ]
  },
  {
   "cell_type": "code",
   "execution_count": 10,
   "id": "86ea6c49-ce0f-4e84-a492-71845553b884",
   "metadata": {},
   "outputs": [
    {
     "data": {
      "text/plain": [
       "24.0"
      ]
     },
     "execution_count": 10,
     "metadata": {},
     "output_type": "execute_result"
    }
   ],
   "source": [
    "seconds_per_day / seconds_per_hour"
   ]
  },
  {
   "cell_type": "markdown",
   "id": "85042295-fa6b-45ae-b587-11356fa05968",
   "metadata": {},
   "source": [
    "##### 6. Divide seconds_per_day by seconds_per_hour, using integer (//) division. Did this number agree with the floating-point value from the previous question, aside from the final .0?\n",
    "seconds_per_day // seconds_per_hour"
   ]
  },
  {
   "cell_type": "code",
   "execution_count": 12,
   "id": "f5a13066-c2b1-4f44-9275-749b887081f3",
   "metadata": {},
   "outputs": [
    {
     "data": {
      "text/plain": [
       "24"
      ]
     },
     "execution_count": 12,
     "metadata": {},
     "output_type": "execute_result"
    }
   ],
   "source": [
    "seconds_per_day // seconds_per_hour"
   ]
  },
  {
   "cell_type": "markdown",
   "id": "9fda4fd3-45ba-4d02-9e09-02a88ac767d4",
   "metadata": {},
   "source": [
    "##### 7. Write a generator, genPrimes, that returns the sequence of prime numbers on successive calls to its next() method: 2, 3, 5, 7, 11, ...\n"
   ]
  },
  {
   "cell_type": "code",
   "execution_count": 33,
   "id": "565c8937-6a6c-4672-86da-a60a0e519efe",
   "metadata": {},
   "outputs": [],
   "source": [
    "def genPrimes():\n",
    "    '''\n",
    "    generate primes, that returns the sequence of prime numbers on successive calls to its next() method: 2, 3, 5, 7, 11, ... \n",
    "    '''\n",
    "    primes = []\n",
    "    n = 2\n",
    "    while True:\n",
    "        # remove all multiples in primes\n",
    "        if all(n % p > 0 for p in primes):\n",
    "            primes.append(n)\n",
    "            yield n\n",
    "        # advance to next digit\n",
    "        n = n + 1\n",
    "\n",
    "\n",
    "primes = genPrimes()"
   ]
  },
  {
   "cell_type": "code",
   "execution_count": 34,
   "id": "4d1d9a7d-4229-4485-ac01-9034d1a66cd8",
   "metadata": {},
   "outputs": [
    {
     "data": {
      "text/plain": [
       "2"
      ]
     },
     "execution_count": 34,
     "metadata": {},
     "output_type": "execute_result"
    }
   ],
   "source": [
    "next(primes)"
   ]
  },
  {
   "cell_type": "code",
   "execution_count": 35,
   "id": "93b5bf97-ed48-4ec1-9e4e-b6316c5ee41b",
   "metadata": {},
   "outputs": [
    {
     "data": {
      "text/plain": [
       "3"
      ]
     },
     "execution_count": 35,
     "metadata": {},
     "output_type": "execute_result"
    }
   ],
   "source": [
    "next(primes)"
   ]
  },
  {
   "cell_type": "code",
   "execution_count": 36,
   "id": "4325a3cd-3d91-4d8b-856d-605d0686840a",
   "metadata": {},
   "outputs": [
    {
     "data": {
      "text/plain": [
       "5"
      ]
     },
     "execution_count": 36,
     "metadata": {},
     "output_type": "execute_result"
    }
   ],
   "source": [
    "next(primes)"
   ]
  },
  {
   "cell_type": "code",
   "execution_count": 37,
   "id": "94ab6067-4615-4b5a-a1c2-239799cecbec",
   "metadata": {},
   "outputs": [
    {
     "data": {
      "text/plain": [
       "7"
      ]
     },
     "execution_count": 37,
     "metadata": {},
     "output_type": "execute_result"
    }
   ],
   "source": [
    "next(primes)"
   ]
  },
  {
   "cell_type": "code",
   "execution_count": 38,
   "id": "f151257e-8e00-4242-bb32-a8847c0c86da",
   "metadata": {},
   "outputs": [
    {
     "data": {
      "text/plain": [
       "11"
      ]
     },
     "execution_count": 38,
     "metadata": {},
     "output_type": "execute_result"
    }
   ],
   "source": [
    "next(primes)"
   ]
  },
  {
   "cell_type": "code",
   "execution_count": 39,
   "id": "e7314243-9e21-4fed-9202-91c724e4ddc6",
   "metadata": {},
   "outputs": [
    {
     "name": "stdout",
     "output_type": "stream",
     "text": [
      "13\n",
      "17\n",
      "19\n",
      "23\n",
      "29\n",
      "31\n",
      "37\n",
      "41\n",
      "43\n",
      "47\n",
      "53\n",
      "59\n",
      "61\n",
      "67\n",
      "71\n"
     ]
    }
   ],
   "source": [
    "for i in range(0,15):\n",
    "    print(next(primes))"
   ]
  },
  {
   "cell_type": "code",
   "execution_count": null,
   "id": "5a37edc7-b7b3-4f96-bd62-62832f60ccbe",
   "metadata": {},
   "outputs": [],
   "source": []
  }
 ],
 "metadata": {
  "kernelspec": {
   "display_name": "Python 3 (ipykernel)",
   "language": "python",
   "name": "python3"
  },
  "language_info": {
   "codemirror_mode": {
    "name": "ipython",
    "version": 3
   },
   "file_extension": ".py",
   "mimetype": "text/x-python",
   "name": "python",
   "nbconvert_exporter": "python",
   "pygments_lexer": "ipython3",
   "version": "3.7.12"
  }
 },
 "nbformat": 4,
 "nbformat_minor": 5
}
