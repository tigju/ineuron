{
 "cells": [
  {
   "cell_type": "markdown",
   "id": "70c6b90c-b98d-4312-b3be-6856be371e1b",
   "metadata": {},
   "source": [
    "#### Assignment 5"
   ]
  },
  {
   "cell_type": "markdown",
   "id": "0166cb59-ca12-4765-b75e-094934138fed",
   "metadata": {},
   "source": [
    "##### 1. What does an empty dictionary's code look like?\n",
    "{}"
   ]
  },
  {
   "cell_type": "code",
   "execution_count": 4,
   "id": "12377595-0643-48ce-ba16-943881726c63",
   "metadata": {},
   "outputs": [
    {
     "data": {
      "text/plain": [
       "{}"
      ]
     },
     "execution_count": 4,
     "metadata": {},
     "output_type": "execute_result"
    }
   ],
   "source": [
    "{}"
   ]
  },
  {
   "cell_type": "markdown",
   "id": "bf6f40ed-d32b-4fcc-953c-90beba62780f",
   "metadata": {},
   "source": [
    "##### 2. What is the value of a dictionary value with the key 'foo' and the value 42?\n",
    "{‘foo’: 42}\n"
   ]
  },
  {
   "cell_type": "code",
   "execution_count": 7,
   "id": "027abd2a-0cf6-4292-8017-17b5a632ceac",
   "metadata": {},
   "outputs": [
    {
     "data": {
      "text/plain": [
       "42"
      ]
     },
     "execution_count": 7,
     "metadata": {},
     "output_type": "execute_result"
    }
   ],
   "source": [
    "d = {'foo': 42}\n",
    "d['foo']"
   ]
  },
  {
   "cell_type": "markdown",
   "id": "01d54282-d100-43d2-9363-fd26c6fdbf2c",
   "metadata": {},
   "source": [
    "##### 3. What is the most significant distinction between a dictionary and a list?\n",
    "Dictionary is unordered and it does not have indices, instead it has key-value pairs. List is ordered and values are indexed.\n"
   ]
  },
  {
   "cell_type": "markdown",
   "id": "8634541e-13d5-420f-9762-e2b75e84cc6f",
   "metadata": {},
   "source": [
    "##### 4. What happens if you try to access spam['foo'] if spam is {'bar': 100}?\n",
    "It will throw an error, because ‘foo’ key does not exist.\n"
   ]
  },
  {
   "cell_type": "code",
   "execution_count": 8,
   "id": "13181941-a436-4444-b27e-23a49370bb01",
   "metadata": {},
   "outputs": [
    {
     "ename": "KeyError",
     "evalue": "'foo'",
     "output_type": "error",
     "traceback": [
      "\u001b[1;31m---------------------------------------------------------------------------\u001b[0m",
      "\u001b[1;31mKeyError\u001b[0m                                  Traceback (most recent call last)",
      "\u001b[1;32m<ipython-input-8-56a8e50c7ff8>\u001b[0m in \u001b[0;36m<module>\u001b[1;34m()\u001b[0m\n\u001b[0;32m      1\u001b[0m \u001b[0mspam\u001b[0m \u001b[1;33m=\u001b[0m \u001b[1;33m{\u001b[0m\u001b[1;34m'bar'\u001b[0m\u001b[1;33m:\u001b[0m \u001b[1;36m100\u001b[0m\u001b[1;33m}\u001b[0m\u001b[1;33m\u001b[0m\u001b[1;33m\u001b[0m\u001b[0m\n\u001b[1;32m----> 2\u001b[1;33m \u001b[0mspam\u001b[0m\u001b[1;33m[\u001b[0m\u001b[1;34m'foo'\u001b[0m\u001b[1;33m]\u001b[0m\u001b[1;33m\u001b[0m\u001b[1;33m\u001b[0m\u001b[0m\n\u001b[0m",
      "\u001b[1;31mKeyError\u001b[0m: 'foo'"
     ]
    }
   ],
   "source": [
    "spam = {'bar': 100}\n",
    "spam['foo']"
   ]
  },
  {
   "cell_type": "markdown",
   "id": "3de42c72-4854-47a3-9bfe-216c39091bd7",
   "metadata": {},
   "source": [
    "##### 5. If a dictionary is stored in spam, what is the difference between the expressions 'cat' in spam and 'cat' in spam.keys()?\n",
    "No difference, because it checks if ‘cat’ key exists in spam.\n"
   ]
  },
  {
   "cell_type": "code",
   "execution_count": 10,
   "id": "3b6b7916-0a24-4158-8b17-9fea85aee6aa",
   "metadata": {},
   "outputs": [
    {
     "name": "stdout",
     "output_type": "stream",
     "text": [
      "True\n"
     ]
    },
    {
     "data": {
      "text/plain": [
       "True"
      ]
     },
     "execution_count": 10,
     "metadata": {},
     "output_type": "execute_result"
    }
   ],
   "source": [
    "spam = {'cat': \"some value\"}\n",
    "print('cat' in spam)\n",
    "'cat' in spam.keys()"
   ]
  },
  {
   "cell_type": "markdown",
   "id": "f0b4879a-994e-41ce-b9fb-fa2e1db03d03",
   "metadata": {},
   "source": [
    "##### 6. If a dictionary is stored in spam, what is the difference between the expressions 'cat' in spam and 'cat' in spam.values()?\n",
    "‘cat’ in spam, checks if there is a key ‘cat’ in dictionary, while ‘cat’ in spam.values() checks for a value ‘cat’ stores in one of the keys.\n"
   ]
  },
  {
   "cell_type": "code",
   "execution_count": 12,
   "id": "72c2bd62-f2e2-431e-914e-1c80b527e824",
   "metadata": {},
   "outputs": [
    {
     "name": "stdout",
     "output_type": "stream",
     "text": [
      "True\n",
      "False\n",
      "*************************\n",
      "False\n",
      "True\n"
     ]
    }
   ],
   "source": [
    "spam = {'cat': 'some value'}\n",
    "\n",
    "print('cat' in spam)\n",
    "print('cat' in spam.values())\n",
    "print('*************************')\n",
    "spam = {'some key': 'cat'}\n",
    "print('cat' in spam)\n",
    "print('cat' in spam.values())"
   ]
  },
  {
   "cell_type": "markdown",
   "id": "8ee7dd98-890c-4638-95d2-c1ff07e95c86",
   "metadata": {},
   "source": [
    "##### 7. What is a shortcut for the following code?\n",
    "if 'color' not in spam: <br/>\n",
    "spam['color'] = 'black' <br/>\n",
    "we can use spam.setdefault(‘color’, ‘black’). If this key does not exist, it will create a new value-pair.\n"
   ]
  },
  {
   "cell_type": "code",
   "execution_count": 14,
   "id": "a147edc8-4c70-45e3-a385-80882daa27c8",
   "metadata": {},
   "outputs": [
    {
     "name": "stdout",
     "output_type": "stream",
     "text": [
      "{'some key': 'cat', 'color': 'black'}\n"
     ]
    }
   ],
   "source": [
    "if 'color' not in spam:\n",
    "    spam['color'] = 'black'\n",
    "print(spam)"
   ]
  },
  {
   "cell_type": "code",
   "execution_count": 16,
   "id": "ae494abc-b946-491a-8e1a-f6388612ff1c",
   "metadata": {},
   "outputs": [
    {
     "name": "stdout",
     "output_type": "stream",
     "text": [
      "{'some key': 'cat', 'color': 'black'}\n"
     ]
    }
   ],
   "source": [
    "# shortcut\n",
    "spam.setdefault('color', 'black')\n",
    "print(spam)"
   ]
  },
  {
   "cell_type": "markdown",
   "id": "46bbc4a8-11f5-4acc-b688-ac83b8e5a97a",
   "metadata": {},
   "source": [
    "##### 8. How do you \"pretty print\" dictionary values using which module and function?\n",
    "You have to import pprint module and use pprint.pprint() passing dictionary in it.\n"
   ]
  },
  {
   "cell_type": "code",
   "execution_count": 19,
   "id": "346efdf4-d409-4e5b-ab28-4d4a23e6974a",
   "metadata": {},
   "outputs": [
    {
     "name": "stdout",
     "output_type": "stream",
     "text": [
      "{'color': 'black',\n",
      " 'some key': 'cat'}\n"
     ]
    }
   ],
   "source": [
    "import pprint\n",
    "my_printer = pprint.PrettyPrinter(width=20)\n",
    "my_printer.pprint(spam)"
   ]
  },
  {
   "cell_type": "code",
   "execution_count": null,
   "id": "6441134f-d249-461b-a930-618c698c0798",
   "metadata": {},
   "outputs": [],
   "source": []
  }
 ],
 "metadata": {
  "kernelspec": {
   "display_name": "Python 3",
   "language": "python",
   "name": "python3"
  },
  "language_info": {
   "codemirror_mode": {
    "name": "ipython",
    "version": 3
   },
   "file_extension": ".py",
   "mimetype": "text/x-python",
   "name": "python",
   "nbconvert_exporter": "python",
   "pygments_lexer": "ipython3",
   "version": "3.7.6"
  }
 },
 "nbformat": 4,
 "nbformat_minor": 5
}
