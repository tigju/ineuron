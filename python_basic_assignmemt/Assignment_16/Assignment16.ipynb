{
 "cells": [
  {
   "cell_type": "markdown",
   "id": "18812dc0-3e8b-4b53-99f5-3df1ac95fe99",
   "metadata": {},
   "source": [
    "#### Assignment 16"
   ]
  },
  {
   "cell_type": "markdown",
   "id": "09152482-404b-499d-b0c2-2fbf6c14953e",
   "metadata": {},
   "source": [
    "##### 1. Create a list called years_list, starting with the year of your birth, and each year thereafter until the year of your fifth birthday. For example, if you were born in 1980. the list would be years_list = [1980, 1981, 1982, 1983, 1984, 1985]."
   ]
  },
  {
   "cell_type": "code",
   "execution_count": 1,
   "id": "c671e050-a447-438d-ae3c-731121c2cfc1",
   "metadata": {},
   "outputs": [],
   "source": [
    "years_list = [1986, 1987, 1988, 1989, 1990]"
   ]
  },
  {
   "cell_type": "markdown",
   "id": "7133e6da-7d40-49e3-9f20-ceb30317d367",
   "metadata": {},
   "source": [
    "##### 2. In which year in years_list was your third birthday? Remember, you were 0 years of age for your first year."
   ]
  },
  {
   "cell_type": "code",
   "execution_count": 3,
   "id": "52687b53-b30f-48af-b924-359edaba92a6",
   "metadata": {},
   "outputs": [
    {
     "data": {
      "text/plain": [
       "1989"
      ]
     },
     "execution_count": 3,
     "metadata": {},
     "output_type": "execute_result"
    }
   ],
   "source": [
    "years_list[3]"
   ]
  },
  {
   "cell_type": "markdown",
   "id": "51cc2af1-72b5-409f-b0b3-69754ff4a510",
   "metadata": {},
   "source": [
    "##### 3.In the years list, which year were you the oldest?"
   ]
  },
  {
   "cell_type": "code",
   "execution_count": 4,
   "id": "0c5fcd48-cb62-4a07-beec-9e23c0062f92",
   "metadata": {},
   "outputs": [
    {
     "data": {
      "text/plain": [
       "1990"
      ]
     },
     "execution_count": 4,
     "metadata": {},
     "output_type": "execute_result"
    }
   ],
   "source": [
    "years_list[4] or years_list[-1]"
   ]
  },
  {
   "cell_type": "markdown",
   "id": "ede152f5-2669-4f10-8821-bbb6304c2fd6",
   "metadata": {},
   "source": [
    "##### 4. Make a list called things with these three strings as elements: \"mozzarella\", \"cinderella\", \"salmonella\"."
   ]
  },
  {
   "cell_type": "code",
   "execution_count": 5,
   "id": "b44083e4-d3b3-4d0f-a883-f59012e6869b",
   "metadata": {},
   "outputs": [],
   "source": [
    "things = [\"mozzarella\", \"cinderella\", \"salmonella\"]"
   ]
  },
  {
   "cell_type": "markdown",
   "id": "3d8c4d58-d85e-436d-8242-5b3278cbd126",
   "metadata": {},
   "source": [
    "##### 5. Capitalize the element in things that refers to a person and then print the list. Did it change the element in the list?"
   ]
  },
  {
   "cell_type": "code",
   "execution_count": 7,
   "id": "094c4640-9312-48a9-87fa-f20edc5d90e3",
   "metadata": {},
   "outputs": [
    {
     "name": "stdout",
     "output_type": "stream",
     "text": [
      "['mozzarella', 'Cinderella', 'salmonella']\n"
     ]
    }
   ],
   "source": [
    "things[1] = things[1].capitalize()\n",
    "print(things)"
   ]
  },
  {
   "cell_type": "markdown",
   "id": "25157a1d-01ea-4f83-8673-be0bb2547db9",
   "metadata": {},
   "source": [
    "##### 6. Make a surprise list with the elements \"Groucho,\" \"Chico,\" and \"Harpo.\""
   ]
  },
  {
   "cell_type": "code",
   "execution_count": 13,
   "id": "3b577241-e5bd-4bb9-9b27-877a209e8f27",
   "metadata": {},
   "outputs": [],
   "source": [
    "surprise = [\"Groucho\", \"Chico\", \"Harpo\"]"
   ]
  },
  {
   "cell_type": "markdown",
   "id": "3f0bda76-5c5f-4759-9e08-d119142ad8ca",
   "metadata": {},
   "source": [
    "##### 7. Lowercase the last element of the surprise list, reverse it, and then capitalize it."
   ]
  },
  {
   "cell_type": "code",
   "execution_count": 14,
   "id": "98cb4b4c-2236-447a-914b-86e6a50c1cb6",
   "metadata": {},
   "outputs": [
    {
     "data": {
      "text/plain": [
       "'Oprah'"
      ]
     },
     "execution_count": 14,
     "metadata": {},
     "output_type": "execute_result"
    }
   ],
   "source": [
    "surprise[-1].lower()[::-1].capitalize()"
   ]
  },
  {
   "cell_type": "markdown",
   "id": "5c16f6c0-c616-4b9f-954f-98978d692d2c",
   "metadata": {},
   "source": [
    "##### 8. Make an English-to-French dictionary called e2f and print it. Here are your starter words: dog is chien, cat is chat, and walrus is morse."
   ]
  },
  {
   "cell_type": "code",
   "execution_count": 15,
   "id": "f2985a12-6154-4e43-848c-f1bbb90908ae",
   "metadata": {},
   "outputs": [],
   "source": [
    "e2f = {'dog': 'chien', 'cat': 'chat', 'walrus': 'morse'}"
   ]
  },
  {
   "cell_type": "markdown",
   "id": "9732fae4-625b-4e85-8eda-c60b5ab43a94",
   "metadata": {},
   "source": [
    "##### 9. Write the French word for walrus in your three-word dictionary e2f."
   ]
  },
  {
   "cell_type": "code",
   "execution_count": 16,
   "id": "7a8f9163-9e3e-4073-836e-bac28fc8b159",
   "metadata": {},
   "outputs": [
    {
     "name": "stdout",
     "output_type": "stream",
     "text": [
      "morse\n"
     ]
    }
   ],
   "source": [
    "print(e2f['walrus'])"
   ]
  },
  {
   "cell_type": "markdown",
   "id": "947b9a37-d9e9-4739-9586-9e7785793c52",
   "metadata": {},
   "source": [
    "##### 10. Make a French-to-English dictionary called f2e from e2f. Use the items method."
   ]
  },
  {
   "cell_type": "code",
   "execution_count": 17,
   "id": "92c6e06c-add0-4114-99cc-b73f0c8e6e52",
   "metadata": {},
   "outputs": [
    {
     "data": {
      "text/plain": [
       "{'chien': 'dog', 'chat': 'cat', 'morse': 'walrus'}"
      ]
     },
     "execution_count": 17,
     "metadata": {},
     "output_type": "execute_result"
    }
   ],
   "source": [
    "f2e = {values: keys for keys, values in e2f.items()}\n",
    "f2e"
   ]
  },
  {
   "cell_type": "markdown",
   "id": "a4725f99-ab1c-4b82-a3be-182f99a7cc10",
   "metadata": {},
   "source": [
    "##### 11. Print the English version of the French word chien using f2e."
   ]
  },
  {
   "cell_type": "code",
   "execution_count": 18,
   "id": "76a3ca59-a3a1-4bcc-91cc-8f645b869b9b",
   "metadata": {},
   "outputs": [
    {
     "name": "stdout",
     "output_type": "stream",
     "text": [
      "dog\n"
     ]
    }
   ],
   "source": [
    "print(f2e['chien'])"
   ]
  },
  {
   "cell_type": "markdown",
   "id": "7aac1fb2-302d-42e6-9a8f-be18edeec120",
   "metadata": {},
   "source": [
    "##### 12. Make and print a set of English words from the keys in e2f."
   ]
  },
  {
   "cell_type": "code",
   "execution_count": 19,
   "id": "b1c1f3c5-40b8-412e-b083-613f69187a14",
   "metadata": {},
   "outputs": [
    {
     "data": {
      "text/plain": [
       "{'cat', 'dog', 'walrus'}"
      ]
     },
     "execution_count": 19,
     "metadata": {},
     "output_type": "execute_result"
    }
   ],
   "source": [
    "eng_words = {key for key in e2f.keys()}\n",
    "eng_words"
   ]
  },
  {
   "cell_type": "markdown",
   "id": "c2631e19-acce-4222-8dee-da02f2359c85",
   "metadata": {},
   "source": [
    "##### 13. Make a multilevel dictionary called life. Use these strings for the topmost keys: 'animals', 'plants', and 'other'. Make the 'animals' key refer to another dictionary with the keys 'cats', 'octopi', and 'emus'. Make the 'cats' key refer to a list of strings with the values 'Henri', 'Grumpy', and 'Lucy'. Make all the other keys refer to empty dictionaries."
   ]
  },
  {
   "cell_type": "code",
   "execution_count": 20,
   "id": "1878230b-e5d5-4c63-9ed4-29662372f50e",
   "metadata": {},
   "outputs": [],
   "source": [
    "life = {\n",
    "    'animals': {\n",
    "          'cats': ['Henry', 'Grumpy', 'Lucy'],\n",
    "           'octopi': {},\n",
    "           'emus': {}\n",
    "      },\n",
    "     'plants': {},\n",
    "     'other': {}\n",
    "}"
   ]
  },
  {
   "cell_type": "markdown",
   "id": "cae1ff56-c282-4cf2-b1c0-c0aa32a6ff04",
   "metadata": {},
   "source": [
    "##### 14. Print the top-level keys of life."
   ]
  },
  {
   "cell_type": "code",
   "execution_count": 23,
   "id": "4453ec45-63a0-4123-974b-d3442a4218ae",
   "metadata": {},
   "outputs": [
    {
     "name": "stdout",
     "output_type": "stream",
     "text": [
      "dict_keys(['animals', 'plants', 'other'])\n"
     ]
    }
   ],
   "source": [
    "print(life.keys())"
   ]
  },
  {
   "cell_type": "markdown",
   "id": "59ee2c51-ce9e-4c4b-91d4-b3130ffa96ea",
   "metadata": {},
   "source": [
    "##### 15. Print the keys for life['animals']."
   ]
  },
  {
   "cell_type": "code",
   "execution_count": 24,
   "id": "9083e4bd-c3fb-4178-b03e-aab1f3e5dadb",
   "metadata": {},
   "outputs": [
    {
     "name": "stdout",
     "output_type": "stream",
     "text": [
      "dict_keys(['cats', 'octopi', 'emus'])\n"
     ]
    }
   ],
   "source": [
    "print(life['animals'].keys())"
   ]
  },
  {
   "cell_type": "markdown",
   "id": "8849c012-db23-4ee9-8b68-b58dad115c6d",
   "metadata": {},
   "source": [
    "##### 16. Print the values for life['animals']['cats']"
   ]
  },
  {
   "cell_type": "code",
   "execution_count": 25,
   "id": "fd7e1361-bceb-493c-aa09-295bfc47eeb1",
   "metadata": {},
   "outputs": [
    {
     "name": "stdout",
     "output_type": "stream",
     "text": [
      "['Henry', 'Grumpy', 'Lucy']\n"
     ]
    }
   ],
   "source": [
    "print(life['animals']['cats'])"
   ]
  },
  {
   "cell_type": "code",
   "execution_count": null,
   "id": "ad2696d5-8df2-43e7-bc70-03786be629ac",
   "metadata": {},
   "outputs": [],
   "source": []
  }
 ],
 "metadata": {
  "kernelspec": {
   "display_name": "Python 3 (ipykernel)",
   "language": "python",
   "name": "python3"
  },
  "language_info": {
   "codemirror_mode": {
    "name": "ipython",
    "version": 3
   },
   "file_extension": ".py",
   "mimetype": "text/x-python",
   "name": "python",
   "nbconvert_exporter": "python",
   "pygments_lexer": "ipython3",
   "version": "3.7.12"
  }
 },
 "nbformat": 4,
 "nbformat_minor": 5
}
