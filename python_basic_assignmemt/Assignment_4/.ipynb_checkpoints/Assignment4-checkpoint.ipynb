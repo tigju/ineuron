{
 "cells": [
  {
   "cell_type": "markdown",
   "id": "cc985ddc-ea4c-4437-bdcc-1c65f3d7cdb8",
   "metadata": {},
   "source": [
    "##### 1. What exactly is []?\n",
    "[] is a list or array with no values stored in it. Empty list."
   ]
  },
  {
   "cell_type": "code",
   "execution_count": 16,
   "id": "dc77dfea-65e7-473a-bbc8-8114412dd029",
   "metadata": {},
   "outputs": [
    {
     "data": {
      "text/plain": [
       "[]"
      ]
     },
     "execution_count": 16,
     "metadata": {},
     "output_type": "execute_result"
    }
   ],
   "source": [
    "[]"
   ]
  },
  {
   "cell_type": "markdown",
   "id": "d9e0e2a1-4c64-4c72-9708-f5b54415110d",
   "metadata": {},
   "source": [
    "##### 2. In a list of values stored in a variable called spam, how would you assign the value 'hello' as the third value? (Assume [2, 4, 6, 8, 10] are in spam.)\n",
    "spam[2] = 'hello'\n",
    "\n"
   ]
  },
  {
   "cell_type": "code",
   "execution_count": 20,
   "id": "aab5223e-86a1-41f0-9398-fb448ca0322f",
   "metadata": {},
   "outputs": [
    {
     "data": {
      "text/plain": [
       "[2, 4, 'hello', 8, 10]"
      ]
     },
     "execution_count": 20,
     "metadata": {},
     "output_type": "execute_result"
    }
   ],
   "source": [
    "spam = [2, 4, 6, 8, 10]\n",
    "spam[2] = 'hello'\n",
    "spam"
   ]
  },
  {
   "cell_type": "markdown",
   "id": "146dfb87-4b4f-4484-bc54-056681685481",
   "metadata": {},
   "source": [
    "##### Let's pretend the spam includes the list ['a', 'b', 'c', 'd'] for the next three queries."
   ]
  },
  {
   "cell_type": "code",
   "execution_count": 25,
   "id": "e571711f-52d7-4527-86ac-24dc636999dc",
   "metadata": {},
   "outputs": [],
   "source": [
    "spam = ['a', 'b', 'c', 'd']"
   ]
  },
  {
   "cell_type": "markdown",
   "id": "90db62b5-8ffe-4bf2-b1f0-297a5ceea856",
   "metadata": {},
   "source": [
    "##### 3. What is the value of spam[int(int('3' * 2) / 11)]?\n",
    "'3'*2 is '33' <br/>\n",
    "int('33') is 33 <br/>\n",
    "int(33/11) is 3 <br/>\n",
    "spam[3] is 'd' <br/>\n"
   ]
  },
  {
   "cell_type": "code",
   "execution_count": 26,
   "id": "314c34af-4064-46b3-bf7c-a512e496b03c",
   "metadata": {},
   "outputs": [
    {
     "name": "stdout",
     "output_type": "stream",
     "text": [
      "'3'*2 ->  33\n",
      "int('33') ->  33\n",
      "int(33/11) ->  3\n",
      "spam[3] ->  d\n"
     ]
    }
   ],
   "source": [
    "print(\"'3'*2 -> \", '3'*2)\n",
    "print(\"int('33') -> \", int('33'))\n",
    "print(\"int(33/11) -> \", int(33/11))\n",
    "print(\"spam[3] -> \", spam[3])"
   ]
  },
  {
   "cell_type": "markdown",
   "id": "985cf39a-3560-42c9-a08e-e029b4034b26",
   "metadata": {},
   "source": [
    "##### 4. What is the value of spam[-1]?\n",
    "'d'\n"
   ]
  },
  {
   "cell_type": "code",
   "execution_count": 27,
   "id": "713c35f7-6438-478c-8e05-7e17fa299ded",
   "metadata": {},
   "outputs": [
    {
     "data": {
      "text/plain": [
       "'d'"
      ]
     },
     "execution_count": 27,
     "metadata": {},
     "output_type": "execute_result"
    }
   ],
   "source": [
    "spam[-1]"
   ]
  },
  {
   "cell_type": "markdown",
   "id": "26283643-f016-4729-a463-9d2166ef4769",
   "metadata": {},
   "source": [
    "##### 5. What is the value of spam[:2]?\n",
    "It slices list from index 0 to 2 not including value of index 2. <br/>\n",
    "[a, b]"
   ]
  },
  {
   "cell_type": "code",
   "execution_count": 30,
   "id": "5b58bf40-92fd-41de-8710-0382347841aa",
   "metadata": {},
   "outputs": [
    {
     "data": {
      "text/plain": [
       "['a', 'b']"
      ]
     },
     "execution_count": 30,
     "metadata": {},
     "output_type": "execute_result"
    }
   ],
   "source": [
    "spam[:2]"
   ]
  },
  {
   "cell_type": "markdown",
   "id": "3e361e85-2dd3-4423-a020-aef15b0cd341",
   "metadata": {},
   "source": [
    "##### Let's pretend bacon has the list [3.14, 'cat', 11, 'cat', True] for the next three questions."
   ]
  },
  {
   "cell_type": "code",
   "execution_count": 31,
   "id": "f795aeb2-9d3e-428d-9b50-a060e20237c1",
   "metadata": {},
   "outputs": [],
   "source": [
    "bacon = [3.14, 'cat', 11, 'cat', True]"
   ]
  },
  {
   "cell_type": "markdown",
   "id": "75ec2336-d243-4bb2-800f-27dbfa5839fd",
   "metadata": {},
   "source": [
    "##### 6. What is the value of bacon.index('cat')?\n",
    "Returns the position of the first occurrence of the value, which is 1."
   ]
  },
  {
   "cell_type": "code",
   "execution_count": 32,
   "id": "b401a708-8c63-4052-b95e-f269918577a0",
   "metadata": {},
   "outputs": [
    {
     "data": {
      "text/plain": [
       "1"
      ]
     },
     "execution_count": 32,
     "metadata": {},
     "output_type": "execute_result"
    }
   ],
   "source": [
    "bacon.index('cat')"
   ]
  },
  {
   "cell_type": "markdown",
   "id": "36aa1405-2f21-4d71-9c99-ae440f8b3e17",
   "metadata": {},
   "source": [
    "##### 7. How does bacon.append(99) change the look of the list value in bacon?\n",
    "It will add 99 to it’s end. The list will look like: <br/>\n",
    "[3.14, 'cat,' 11, 'cat,' True, 99]"
   ]
  },
  {
   "cell_type": "code",
   "execution_count": 33,
   "id": "e17fe7fe-ff4c-4fab-8bdd-f065e193c4ea",
   "metadata": {},
   "outputs": [
    {
     "data": {
      "text/plain": [
       "[3.14, 'cat', 11, 'cat', True, 99]"
      ]
     },
     "execution_count": 33,
     "metadata": {},
     "output_type": "execute_result"
    }
   ],
   "source": [
    "bacon.append(99)\n",
    "bacon"
   ]
  },
  {
   "cell_type": "markdown",
   "id": "a77b8ec5-a322-4ed9-a0cb-aa78dccd1518",
   "metadata": {},
   "source": [
    "##### 8. How does bacon.remove('cat') change the look of the list in bacon?\n",
    "It will remove the first occurrence of the value provided. The list will look like: <br/>\n",
    "[3.14,  11, 'cat,' True, 99]\n"
   ]
  },
  {
   "cell_type": "code",
   "execution_count": 35,
   "id": "177c5a52-fc8d-481b-8f91-a46c729d3cbe",
   "metadata": {},
   "outputs": [
    {
     "data": {
      "text/plain": [
       "[3.14, 11, 'cat', True, 99]"
      ]
     },
     "execution_count": 35,
     "metadata": {},
     "output_type": "execute_result"
    }
   ],
   "source": [
    "bacon.remove('cat')\n",
    "bacon"
   ]
  },
  {
   "cell_type": "markdown",
   "id": "31948f48-f907-4350-aca4-fb05cc13ea49",
   "metadata": {},
   "source": [
    "##### 9. What are the list concatenation and list replication operators?\n",
    "Concatenation operator is +, replication operator is *"
   ]
  },
  {
   "cell_type": "markdown",
   "id": "4868fe4e-3af1-4107-bee4-1c1ac55199dd",
   "metadata": {},
   "source": [
    "##### 10. What is difference between the list methods append() and insert()?\n",
    "append() will add a value at the end of the list, insert() will add the value where the index position is provided.\n"
   ]
  },
  {
   "cell_type": "markdown",
   "id": "6ae0d99a-c818-4dde-af25-4a4cb1d5885a",
   "metadata": {},
   "source": [
    "##### 11. What are the two methods for removing items from a list?\n",
    "pop(), remove() and del"
   ]
  },
  {
   "cell_type": "markdown",
   "id": "92ee64b0-a486-4cbb-ae53-41833b6ca555",
   "metadata": {},
   "source": [
    "##### 12. Describe how list values and string values are identical.\n",
    "They both have indices starting from 0. Every character in a string is indexed in the same way a list values are indexed. Also, they can be manipulated in the same way, for example in for loops, etc.\n"
   ]
  },
  {
   "cell_type": "markdown",
   "id": "2a7e4b4c-a525-40c4-981f-0676cc81486c",
   "metadata": {},
   "source": [
    "##### 13. What's the difference between tuples and lists?\n",
    "You cannot change tuples like you would with lists. Tuples are immutable, lists are mutable. In tuples values stored in parentheses and in lists they stored in square brackets. "
   ]
  },
  {
   "cell_type": "markdown",
   "id": "1f013c30-67ca-457b-b31b-310217d0a275",
   "metadata": {},
   "source": [
    "##### 14. How do you type a tuple value that only contains the integer 42?\n",
    "(42,)"
   ]
  },
  {
   "cell_type": "code",
   "execution_count": 50,
   "id": "50043000-5975-4db8-89c4-a28c0e1243b1",
   "metadata": {},
   "outputs": [
    {
     "data": {
      "text/plain": [
       "tuple"
      ]
     },
     "execution_count": 50,
     "metadata": {},
     "output_type": "execute_result"
    }
   ],
   "source": [
    "t = (42,)\n",
    "type(t)"
   ]
  },
  {
   "cell_type": "markdown",
   "id": "58a941e1-406d-4f5f-a36d-6a69d4da9437",
   "metadata": {},
   "source": [
    "##### 15. How do you get a list value's tuple form? How do you get a tuple value's list form?\n",
    "You can get a list from a tuple with list() function and you can get a tuple from a list with tuple() function.\n"
   ]
  },
  {
   "cell_type": "code",
   "execution_count": 51,
   "id": "1196481f-6f07-4106-aca5-5e325fb27c5d",
   "metadata": {},
   "outputs": [
    {
     "name": "stdout",
     "output_type": "stream",
     "text": [
      "<class 'list'>\n",
      "<class 'tuple'>\n"
     ]
    }
   ],
   "source": [
    "l = [3,4,5,6]\n",
    "print(type(l))\n",
    "t = tuple(l)\n",
    "print(type(t))"
   ]
  },
  {
   "cell_type": "markdown",
   "id": "b71f855b-10e7-4505-8a05-6e0a7a9fd9a7",
   "metadata": {},
   "source": [
    "##### 16. Variables that \"contain\" list values are not necessarily lists themselves. Instead, what do they contain?\n",
    "Python uses references whenever variables must store values of mutable data types, such as lists or dictionaries.\n"
   ]
  },
  {
   "cell_type": "markdown",
   "id": "8b0252ad-b82a-48e3-bcb0-d0af81991893",
   "metadata": {},
   "source": [
    "##### 17. How do you distinguish between copy.copy() and copy.deepcopy()?\n",
    "copy() makes a copy only of the first level of the list tree (shallow copy),<br>\n",
    "deepcopy() will copy all levels of the list tree, including all nested values or nested lists. \n"
   ]
  },
  {
   "cell_type": "code",
   "execution_count": null,
   "id": "b956ad38-4bcf-4380-bad8-16d503deb60e",
   "metadata": {},
   "outputs": [],
   "source": []
  }
 ],
 "metadata": {
  "kernelspec": {
   "display_name": "Python 3",
   "language": "python",
   "name": "python3"
  },
  "language_info": {
   "codemirror_mode": {
    "name": "ipython",
    "version": 3
   },
   "file_extension": ".py",
   "mimetype": "text/x-python",
   "name": "python",
   "nbconvert_exporter": "python",
   "pygments_lexer": "ipython3",
   "version": "3.7.6"
  }
 },
 "nbformat": 4,
 "nbformat_minor": 5
}
