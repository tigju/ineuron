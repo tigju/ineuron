{
 "cells": [
  {
   "cell_type": "markdown",
   "id": "b739388d-cf2a-4b53-b3d9-7919ddca5381",
   "metadata": {},
   "source": [
    "#### Assignment 7"
   ]
  },
  {
   "cell_type": "markdown",
   "id": "879abaa8-c641-431d-bbc2-1778d14389dd",
   "metadata": {},
   "source": [
    "##### 1. What is the name of the feature responsible for generating Regex objects?\n",
    "re.compile() will return regex object.\n"
   ]
  },
  {
   "cell_type": "markdown",
   "id": "b48394d1-1aaf-4e1f-959a-71a36b02d71c",
   "metadata": {},
   "source": [
    "##### 2. Why do raw strings often appear in Regex objects?\n",
    "Because raw string considers backslash as a literal instead od an escape character.\n"
   ]
  },
  {
   "cell_type": "markdown",
   "id": "821bb3a5-53e4-4c6b-b470-dce2d7001131",
   "metadata": {},
   "source": [
    "##### 3. What is the return value of the search() method?\n",
    "Return value of search() is Match object.\n"
   ]
  },
  {
   "cell_type": "markdown",
   "id": "b3fe100e-c635-4ad1-a169-73de6be15687",
   "metadata": {},
   "source": [
    "##### 4. From a Match item, how do you get the actual strings that match the pattern?\n",
    "Use group() to return strings of the matched pattern.\n"
   ]
  },
  {
   "cell_type": "markdown",
   "id": "a6ee85c6-7cc7-43af-b577-14f181319745",
   "metadata": {},
   "source": [
    "##### 5. In the regex which created from the r'(\\d\\d\\d)-(\\d\\d\\d-\\d\\d\\d\\d)', what does group zero cover? Group 2? Group 1?\n",
    "Group 0 is the whole match, group 1 is the first parentheses pattern and group 2 is a second parentheses pattern.\n"
   ]
  },
  {
   "cell_type": "markdown",
   "id": "4c32ed7e-d189-4030-80cc-4271f9aac220",
   "metadata": {},
   "source": [
    "##### 6. In standard expression syntax, parentheses and intervals have distinct meanings. How can you tell a regex that you want it to fit real parentheses and periods?\n",
    "You can use backslash escape character in front of parentheses and periods.\n"
   ]
  },
  {
   "cell_type": "markdown",
   "id": "66580e39-82cc-44b3-ad83-632947d19708",
   "metadata": {},
   "source": [
    "##### 7. The findall() method returns a string list or a list of string tuples. What causes it to return one of the two options?\n",
    "It can return a list of strings or a list of tuples with strings. It depends if regex has groups or not. If it doesn’t, then is will be a list of strings and if it does, the list of tuples with strings will be returned.\n"
   ]
  },
  {
   "cell_type": "markdown",
   "id": "eaa56862-60c8-42c7-b35b-38dc4dfd6c8a",
   "metadata": {},
   "source": [
    "##### 8. In standard expressions, what does the | character mean?\n",
    "| character represents bitwise ‘or’ in standard expressions.\n"
   ]
  },
  {
   "cell_type": "markdown",
   "id": "d0aed05f-fe5c-4f84-bbb6-21ef5b1f7f5d",
   "metadata": {},
   "source": [
    "##### 9. In regular expressions, what does the character stand for?\n",
    "In regular expressions it represents matching between groups either, or\n"
   ]
  },
  {
   "cell_type": "markdown",
   "id": "4a47cc41-5b06-454b-bf3f-a4e0b5a6a736",
   "metadata": {},
   "source": [
    "##### 10.In regular expressions, what is the difference between the + and * characters?\n",
    "'+' means one or more characters, '*' means zero or more characters.\n"
   ]
  },
  {
   "cell_type": "markdown",
   "id": "19446cb8-3d37-4919-a697-a7d9665f8e75",
   "metadata": {},
   "source": [
    "##### 11. What is the difference between {4} and {4,5} in regular expression?\n",
    "{4} matches exactly 4 occurrences , {4,5} matches 4 or 5 occurrences. \n"
   ]
  },
  {
   "cell_type": "markdown",
   "id": "27030a1a-8c48-40ff-aaec-b7088118cd1c",
   "metadata": {},
   "source": [
    "##### 12. What do you mean by the \\d, \\w, and \\s shorthand character classes signify in regular expressions?\n",
    "\\d means digit character, \\w means word, \\s means space character.\n"
   ]
  },
  {
   "cell_type": "markdown",
   "id": "7fbdb6d6-50bc-49eb-8a02-5c8b1ac3dc1f",
   "metadata": {},
   "source": [
    "##### 13. What do means by \\D, \\W, and \\S shorthand character classes signify in regular expressions?\n",
    "\\D means not a digit character, \\W not a word, \\S not a space character.\n"
   ]
  },
  {
   "cell_type": "markdown",
   "id": "d282064c-ed1a-4051-a6cc-23efac8e7079",
   "metadata": {},
   "source": [
    "##### 14. What is the difference between .*? and .*?\n",
    "'.\\*?' is a non-greedy mode , which gets the shortest string that can meets the conditions. <br/>\n",
    "'.\\*' is a greedy mode, which gets the longest string that meets the conditions.\n"
   ]
  },
  {
   "cell_type": "markdown",
   "id": "c03012c0-8231-4a07-9dd4-83efb9f45ba5",
   "metadata": {},
   "source": [
    "##### 15. What is the syntax for matching both numbers and lowercase letters with a character class?\n",
    "[0-9a-z] or [a-z0-9]\n"
   ]
  },
  {
   "cell_type": "markdown",
   "id": "ba090b69-b7e3-43af-934c-1178870afad2",
   "metadata": {},
   "source": [
    "##### 16. What is the procedure for making a normal expression in regex case insensitive?\n",
    "We can pass re.IGNORECASE as the second argument to re.compile()\n"
   ]
  },
  {
   "cell_type": "markdown",
   "id": "3b3d0318-0ae6-4eb5-9e17-2627fc7400ed",
   "metadata": {},
   "source": [
    "##### 17. What does the . character normally match? What does it match if re.DOTALL is passed as 2nd argument in re.compile()?\n",
    "'.' character matches any character in a string except new line character. If re.DOTALL is passed as a second argument, then it will match new lines too.\n"
   ]
  },
  {
   "cell_type": "markdown",
   "id": "5a201598-d598-4195-8297-757a481b9504",
   "metadata": {},
   "source": [
    "##### 18. If numReg = re.compile(r'\\d+'), what will numRegex.sub('X', '11 drummers, 10 pipers, five rings, 4 hen') return?\n",
    "It will return string where all digits will be substituted with ‘X’ -> 'X drummers, X pipers, five rings, X hen'\n"
   ]
  },
  {
   "cell_type": "code",
   "execution_count": 7,
   "id": "76a2085f-3db1-4169-83d2-60fdb080adef",
   "metadata": {},
   "outputs": [
    {
     "data": {
      "text/plain": [
       "'X drummers, X pipers, five rings, X hen'"
      ]
     },
     "execution_count": 7,
     "metadata": {},
     "output_type": "execute_result"
    }
   ],
   "source": [
    "numRegex = re.compile(r'\\d+')\n",
    "numRegex.sub('X', '11 drummers, 10 pipers, five rings, 4 hen')"
   ]
  },
  {
   "cell_type": "markdown",
   "id": "059594b9-ebad-4729-a820-c968a1139b34",
   "metadata": {},
   "source": [
    "##### 19. What does passing as the 2nd argument to re.compile() allow to do?\n",
    "It allows to visually separate logical sections of pattern with whitespaces for readability and add comments.\n"
   ]
  },
  {
   "cell_type": "markdown",
   "id": "173cbecc-8159-4f80-bec5-1232ebd87521",
   "metadata": {},
   "source": [
    "##### 20. How would you write a regex that match a number with comma for every three digits? It must match the given following:\n",
    "'42' <br>\n",
    "'1,234' <br>\n",
    "'6,368,745' <br>\n",
    "but not the following: <br>\n",
    "'12,34,567' (which has only two digits between the commas) <br>\n",
    "'1234' (which lacks commas) <br> <br>\n",
    "re.compile(r'(^\\d{1,3}(,\\d{3})*)$')"
   ]
  },
  {
   "cell_type": "code",
   "execution_count": 14,
   "id": "cec0a783-8a28-40c4-b034-408f5f29adec",
   "metadata": {},
   "outputs": [
    {
     "name": "stdout",
     "output_type": "stream",
     "text": [
      "1,234\n",
      "6,368,745\n",
      "Not a match\n",
      "Not a match\n"
     ]
    }
   ],
   "source": [
    "reg = re.compile(r'(^\\d{1,3}(,\\d{3})*)$')\n",
    "\n",
    "l = ['1,234','6,368,745','12,34,567','1234']\n",
    "\n",
    "for s in l:\n",
    "    if re.match(reg, s): #Check if regex is correct\n",
    "        print(s)\n",
    "    else:\n",
    "        print(\"Not a match\")"
   ]
  },
  {
   "cell_type": "markdown",
   "id": "68c91e1c-1e2d-4778-8297-b39a0ea666cc",
   "metadata": {},
   "source": [
    "##### 21. How would you write a regex that matches the full name of someone whose last name is Watanabe? You can assume that the first name that comes before it will always be one word that begins with a capital letter. The regex must match the following:\n",
    "'Haruto Watanabe' <br>\n",
    "'Alice Watanabe' <br>\n",
    "'RoboCop Watanabe' <br>\n",
    "but not the following: <br>\n",
    "'haruto Watanabe' (where the first name is not capitalized) <br>\n",
    "'Mr. Watanabe' (where the preceding word has a nonletter character) <br>\n",
    "'Watanabe' (which has no first name) <br>\n",
    "'Haruto watanabe' (where Watanabe is not capitalized) <br><br>\n",
    "\n",
    "re.compile(r'[A-Z][a-z]*[a-zA-Z]*\\sWatanabe')\n"
   ]
  },
  {
   "cell_type": "code",
   "execution_count": 15,
   "id": "925d5bb4-cd76-408b-8d98-757b7f4fe99e",
   "metadata": {},
   "outputs": [
    {
     "name": "stdout",
     "output_type": "stream",
     "text": [
      "Haruto Watanabe\n",
      "Alice Watanabe\n",
      "RoboCop Watanabe\n",
      "Not a match\n",
      "Not a match\n",
      "Not a match\n",
      "Not a match\n"
     ]
    }
   ],
   "source": [
    "reg = re.compile(r'[A-Z][a-z]*[a-zA-Z]*\\sWatanabe')\n",
    "l = ['Haruto Watanabe', 'Alice Watanabe', 'RoboCop Watanabe', 'haruto Watanabe', 'Mr. Watanabe', 'Watanabe','Haruto watanabe']\n",
    "for s in l:\n",
    "    if re.match(reg, s): #Check if regex is correct\n",
    "        print(s)\n",
    "    else:\n",
    "        print(\"Not a match\")"
   ]
  },
  {
   "cell_type": "markdown",
   "id": "586ac7af-854d-40b2-98d1-2c43195f2425",
   "metadata": {},
   "source": [
    "##### 22. How would you write a regex that matches a sentence where the first word is either Alice, Bob, or Carol; the second word is either eats, pets, or throws; the third word is apples, cats, or baseballs; and the sentence ends with a period? This regex should be case-insensitive. It must match the following:\n",
    "'Alice eats apples.' <br>\n",
    "'Bob pets cats.' <br>\n",
    "'Carol throws baseballs.' <br>\n",
    "'Alice throws Apples.' <br>\n",
    "'BOB EATS CATS.' <br>\n",
    "but not the following: <br>\n",
    "'RoboCop eats apples.' <br>\n",
    "'ALICE THROWS FOOTBALLS.' <br>\n",
    "'Carol eats 7 cats.' <br><br>\n",
    "re.compile(r'^(Alice|Bob|Carol)\\s(eats|pets|throws)\\s(apples|cats|baseballs)\\\\.$', re.IGNORECASE)"
   ]
  },
  {
   "cell_type": "code",
   "execution_count": 20,
   "id": "c09ea11a-9309-4873-a01e-40ace71ea5dd",
   "metadata": {},
   "outputs": [
    {
     "name": "stdout",
     "output_type": "stream",
     "text": [
      "Alice eats apples.\n",
      "Bob pets cats.\n",
      "Carol throws baseballs.\n",
      "Alice throws Apples.\n",
      "BOB EATS CATS.\n",
      "Not a match\n",
      "Not a match\n",
      "Not a match\n"
     ]
    }
   ],
   "source": [
    "l = ['Alice eats apples.','Bob pets cats.','Carol throws baseballs.','Alice throws Apples.','BOB EATS CATS.',\n",
    " 'RoboCop eats apples.','ALICE THROWS FOOTBALLS.','Carol eats 7 cats.']\n",
    "\n",
    "reg = re.compile(r'^(Alice|Bob|Carol)\\s(eats|pets|throws)\\s(apples|cats|baseballs)\\.$', re.IGNORECASE)\n",
    "for s in l:\n",
    "    if re.match(reg, s): #Check if regex is correct\n",
    "        print(s)\n",
    "    else:\n",
    "        print(\"Not a match\")"
   ]
  }
 ],
 "metadata": {
  "kernelspec": {
   "display_name": "Python 3 (ipykernel)",
   "language": "python",
   "name": "python3"
  },
  "language_info": {
   "codemirror_mode": {
    "name": "ipython",
    "version": 3
   },
   "file_extension": ".py",
   "mimetype": "text/x-python",
   "name": "python",
   "nbconvert_exporter": "python",
   "pygments_lexer": "ipython3",
   "version": "3.7.11"
  }
 },
 "nbformat": 4,
 "nbformat_minor": 5
}
