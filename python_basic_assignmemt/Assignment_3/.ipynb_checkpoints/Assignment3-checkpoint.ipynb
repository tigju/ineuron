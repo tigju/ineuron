{
 "cells": [
  {
   "cell_type": "markdown",
   "id": "927c9ac0-8143-4440-9f2f-c2688e20c62b",
   "metadata": {},
   "source": [
    "#### Assignment 3"
   ]
  },
  {
   "cell_type": "markdown",
   "id": "76360cef-0dc1-4d77-82e9-d5577a06fca9",
   "metadata": {},
   "source": [
    "##### 1. Why are functions advantageous to have in your programs?\n",
    "Because you can reuse the same code multiple times in your program and don’t have to rewrite the same code again.\n",
    "\n"
   ]
  },
  {
   "cell_type": "markdown",
   "id": "bdc74bc6-9ba0-4735-a57d-372afeb3a3d2",
   "metadata": {},
   "source": [
    "##### 2. When does the code in a function run: when it's specified or when it's called?\n",
    "When it’s called\n"
   ]
  },
  {
   "cell_type": "markdown",
   "id": "58ecfa04-1c6f-4f29-8f00-b1cddc0c9405",
   "metadata": {},
   "source": [
    "##### 3. What statement creates a function?\n",
    "def func_name():\n"
   ]
  },
  {
   "cell_type": "markdown",
   "id": "9cab275e-1702-4820-8766-1eb9c8f098c8",
   "metadata": {},
   "source": [
    "##### 4. What is the difference between a function and a function call?\n",
    "when you declare function it’s not getting executed, it is stored in a memory. When you call a function it’s getting executed.\n"
   ]
  },
  {
   "cell_type": "markdown",
   "id": "bb4ab28f-8afc-465f-8194-e1b1d4ac6a29",
   "metadata": {},
   "source": [
    "##### 5. How many global scopes are there in a Python program? How many local scopes?\n",
    "There is a one global scope. The number of Local scopes determined by the number of functions/statements get executed within the program.\n"
   ]
  },
  {
   "cell_type": "markdown",
   "id": "062a1034-ca18-4a23-ab63-45ee46c135f4",
   "metadata": {},
   "source": [
    "##### 6. What happens to variables in a local scope when the function call returns?\n",
    "When the function returns, the local scope is destroyed and the variables are forgotten.\n"
   ]
  },
  {
   "cell_type": "markdown",
   "id": "6dddda2d-a28a-4876-b25a-a548552cb12a",
   "metadata": {},
   "source": [
    "##### 7. What is the concept of a return value? Is it possible to have a return value in an expression?\n",
    "Return is used in a function to end an execution of it and it returns the result of the function execution. It can be used in an expression as well.\n"
   ]
  },
  {
   "cell_type": "markdown",
   "id": "b5722453-e66d-4c6a-828a-5335d2e6ffb4",
   "metadata": {},
   "source": [
    "##### 8. If a function does not have a return statement, what is the return value of a call to that function?\n",
    "If function doesn’t have a return statement, function returns value None, which is an object and it’s data type is NoneType.\n"
   ]
  },
  {
   "cell_type": "markdown",
   "id": "7151ebf4-0ffe-41d3-9aba-069174bd3e09",
   "metadata": {},
   "source": [
    "##### 9. How do you make a function variable refer to the global variable?\n",
    "In python you can use ‘global’ keyword before the variable name and it will refer to the global variable inside of the function.\n"
   ]
  },
  {
   "cell_type": "markdown",
   "id": "af76e63c-2068-4378-b96e-2c3bf75a1421",
   "metadata": {},
   "source": [
    "##### 10. What is the data type of None?\n",
    "None is an object, which type is NoneType.\n"
   ]
  },
  {
   "cell_type": "markdown",
   "id": "229353c0-27c8-4429-99a7-99a62ef23cf4",
   "metadata": {},
   "source": [
    "##### 11. What does the sentence import areallyourpetsnamederic do?\n",
    "It will throw an error, because such module doesn’t exist.\n"
   ]
  },
  {
   "cell_type": "markdown",
   "id": "d6c31061-9d2e-41fc-90ca-0d74b73f3b91",
   "metadata": {},
   "source": [
    "##### 12. If you had a bacon() feature in a spam module, what would you call it after importing spam?\n",
    "spam.bacon()\n"
   ]
  },
  {
   "cell_type": "markdown",
   "id": "6febd238-babf-46d7-a746-16e3be29a17d",
   "metadata": {},
   "source": [
    "##### 13. What can you do to save a programme from crashing if it encounters an error?\n",
    "We can use try…except with the block of code that may cause an error. \n"
   ]
  },
  {
   "cell_type": "markdown",
   "id": "6dc6d9d8-4a72-4e5d-9444-97160fe6cbb7",
   "metadata": {},
   "source": [
    "##### 14. What is the purpose of the try clause? What is the purpose of the except clause?\n",
    "If there is no error, try block will be executed, if there is an error, except block will be executed with the error handler provided. "
   ]
  }
 ],
 "metadata": {
  "kernelspec": {
   "display_name": "Python 3",
   "language": "python",
   "name": "python3"
  },
  "language_info": {
   "codemirror_mode": {
    "name": "ipython",
    "version": 3
   },
   "file_extension": ".py",
   "mimetype": "text/x-python",
   "name": "python",
   "nbconvert_exporter": "python",
   "pygments_lexer": "ipython3",
   "version": "3.7.6"
  }
 },
 "nbformat": 4,
 "nbformat_minor": 5
}
