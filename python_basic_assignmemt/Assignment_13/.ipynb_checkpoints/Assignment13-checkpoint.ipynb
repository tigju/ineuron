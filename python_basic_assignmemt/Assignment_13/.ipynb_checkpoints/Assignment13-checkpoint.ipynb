{
 "cells": [
  {
   "cell_type": "markdown",
   "id": "1ced3f84-28a1-4856-b9b5-d5e366f73047",
   "metadata": {},
   "source": [
    "#### Assignment 13"
   ]
  },
  {
   "cell_type": "markdown",
   "id": "d28b88bc-0872-4c74-b564-2f39b8b90ca4",
   "metadata": {},
   "source": [
    "##### 1. What advantages do Excel spreadsheets have over CSV spreadsheets?\n",
    "CSV spreadsheets contain plain comma separated text, while Excel spreadsheets can contain different object like charts, styling can be changed for values and for cells. Excel spreadsheets can be linked to external data sources."
   ]
  },
  {
   "cell_type": "markdown",
   "id": "cbacd3f7-a4a3-4628-9774-9d6fd1d981c6",
   "metadata": {},
   "source": [
    "##### 2.What do you pass to csv.reader() and csv.writer() to create reader and writer objects?\n",
    "File object."
   ]
  },
  {
   "cell_type": "code",
   "execution_count": 1,
   "id": "dff9c191-2776-47c7-8568-c53d3e52f2a9",
   "metadata": {},
   "outputs": [],
   "source": [
    "import csv\n",
    "with open('eggs.csv', 'w', newline='') as csvfile:\n",
    "    spamwriter = csv.writer(csvfile, delimiter=' ',\n",
    "                            quotechar='|', quoting=csv.QUOTE_MINIMAL)\n",
    "    spamwriter.writerow(['Spam'] * 5 + ['Baked Beans'])\n",
    "    spamwriter.writerow(['Spam', 'Lovely Spam', 'Wonderful Spam'])"
   ]
  },
  {
   "cell_type": "code",
   "execution_count": 3,
   "id": "395b36c4-3cfa-4165-ab74-61386d1df6fe",
   "metadata": {},
   "outputs": [
    {
     "name": "stdout",
     "output_type": "stream",
     "text": [
      "Spam, Spam, Spam, Spam, Spam, Baked Beans\n",
      "Spam, Lovely Spam, Wonderful Spam\n"
     ]
    }
   ],
   "source": [
    "with open('eggs.csv', newline='') as csvfile:\n",
    "    spamreader = csv.reader(csvfile, delimiter=' ', quotechar='|')\n",
    "    for row in spamreader:\n",
    "        print(', '.join(row))"
   ]
  },
  {
   "cell_type": "markdown",
   "id": "d186c021-fbff-43dc-8521-d1d3d7d546e2",
   "metadata": {},
   "source": [
    "##### 3. What modes do File objects for reader and writer objects need to be opened in?\n",
    "For reader object 'rb'; <br/> for writer object 'wb'."
   ]
  },
  {
   "cell_type": "markdown",
   "id": "994b9abe-d28d-4f43-baf1-38ba5999bd57",
   "metadata": {},
   "source": [
    "##### 4. What method takes a list argument and writes it to a CSV file?\n",
    "writerow()"
   ]
  },
  {
   "cell_type": "markdown",
   "id": "c5753fb2-4f33-42b7-96fd-f4f49b07b663",
   "metadata": {},
   "source": [
    "##### 5. What do the keyword arguments delimiter and line terminator do?\n",
    "Delimiter separates values between columns, terminator separates rows."
   ]
  },
  {
   "cell_type": "markdown",
   "id": "0f7b540a-72e4-4580-af1c-5c9508cd3494",
   "metadata": {},
   "source": [
    "##### 6. What function takes a string of JSON data and returns a Python data structure?\n",
    "json.loads()"
   ]
  },
  {
   "cell_type": "markdown",
   "id": "96092488-1a2f-4aab-aaaa-99dd670cc308",
   "metadata": {},
   "source": [
    "##### 7. What function takes a Python data structure and returns a string of JSON data?\n",
    "json.dumps()"
   ]
  }
 ],
 "metadata": {
  "kernelspec": {
   "display_name": "Python 3 (ipykernel)",
   "language": "python",
   "name": "python3"
  },
  "language_info": {
   "codemirror_mode": {
    "name": "ipython",
    "version": 3
   },
   "file_extension": ".py",
   "mimetype": "text/x-python",
   "name": "python",
   "nbconvert_exporter": "python",
   "pygments_lexer": "ipython3",
   "version": "3.7.12"
  }
 },
 "nbformat": 4,
 "nbformat_minor": 5
}
