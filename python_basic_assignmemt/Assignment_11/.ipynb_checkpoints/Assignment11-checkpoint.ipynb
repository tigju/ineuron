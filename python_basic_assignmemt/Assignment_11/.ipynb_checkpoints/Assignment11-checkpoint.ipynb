{
 "cells": [
  {
   "cell_type": "markdown",
   "id": "8d1db94c-d51d-41e8-aecb-5710e0b9fc41",
   "metadata": {},
   "source": [
    "#### Assignment 11"
   ]
  },
  {
   "cell_type": "markdown",
   "id": "b5786d62-93f4-4377-97b6-5496f07539e5",
   "metadata": {},
   "source": [
    "##### 1. Create an assert statement that throws an AssertionError if the variable spam is a negative integer.\n",
    "assert spam < 0, \"The spam variable can’t be negative\""
   ]
  },
  {
   "cell_type": "code",
   "execution_count": 2,
   "id": "7d7db040-bfb7-419d-8dcd-be3c9c719c04",
   "metadata": {},
   "outputs": [
    {
     "ename": "AssertionError",
     "evalue": "The spam variable can't be negative",
     "output_type": "error",
     "traceback": [
      "\u001b[1;31m---------------------------------------------------------------------------\u001b[0m",
      "\u001b[1;31mAssertionError\u001b[0m                            Traceback (most recent call last)",
      "\u001b[1;32m~\\AppData\\Local\\Temp/ipykernel_16428/981420025.py\u001b[0m in \u001b[0;36m<module>\u001b[1;34m\u001b[0m\n\u001b[0;32m      1\u001b[0m \u001b[0mspam\u001b[0m \u001b[1;33m=\u001b[0m \u001b[1;33m-\u001b[0m\u001b[1;36m1\u001b[0m\u001b[1;33m\u001b[0m\u001b[1;33m\u001b[0m\u001b[0m\n\u001b[1;32m----> 2\u001b[1;33m \u001b[1;32massert\u001b[0m \u001b[0mspam\u001b[0m \u001b[1;33m>\u001b[0m \u001b[1;36m0\u001b[0m\u001b[1;33m,\u001b[0m \u001b[1;34m\"The spam variable can't be negative\"\u001b[0m\u001b[1;33m\u001b[0m\u001b[1;33m\u001b[0m\u001b[0m\n\u001b[0m",
      "\u001b[1;31mAssertionError\u001b[0m: The spam variable can't be negative"
     ]
    }
   ],
   "source": [
    "spam = -1\n",
    "assert spam > 0, \"The spam variable can't be negative\""
   ]
  },
  {
   "cell_type": "markdown",
   "id": "413427cc-f956-43e2-bbb6-900430a806c5",
   "metadata": {},
   "source": [
    "##### 2. Write an assert statement that triggers an AssertionError if the variables eggs and bacon contain strings that are the same as each other, even if their cases are different (that is, 'hello' and 'hello' are considered the same, and 'goodbye' and 'GOODbye' are also considered the same). \n"
   ]
  },
  {
   "cell_type": "code",
   "execution_count": 3,
   "id": "4661a145-e5f0-47a5-bba8-d42a136669a9",
   "metadata": {},
   "outputs": [
    {
     "ename": "AssertionError",
     "evalue": "Variables are the same!",
     "output_type": "error",
     "traceback": [
      "\u001b[1;31m---------------------------------------------------------------------------\u001b[0m",
      "\u001b[1;31mAssertionError\u001b[0m                            Traceback (most recent call last)",
      "\u001b[1;32m~\\AppData\\Local\\Temp/ipykernel_16428/2072429898.py\u001b[0m in \u001b[0;36m<module>\u001b[1;34m\u001b[0m\n\u001b[0;32m      1\u001b[0m \u001b[0meggs\u001b[0m \u001b[1;33m=\u001b[0m \u001b[1;34m'hello'\u001b[0m\u001b[1;33m\u001b[0m\u001b[1;33m\u001b[0m\u001b[0m\n\u001b[0;32m      2\u001b[0m \u001b[0mbacon\u001b[0m \u001b[1;33m=\u001b[0m \u001b[1;34m'hello'\u001b[0m\u001b[1;33m\u001b[0m\u001b[1;33m\u001b[0m\u001b[0m\n\u001b[1;32m----> 3\u001b[1;33m \u001b[1;32massert\u001b[0m \u001b[0meggs\u001b[0m\u001b[1;33m.\u001b[0m\u001b[0mlower\u001b[0m\u001b[1;33m(\u001b[0m\u001b[1;33m)\u001b[0m \u001b[1;33m!=\u001b[0m \u001b[0mbacon\u001b[0m\u001b[1;33m.\u001b[0m\u001b[0mlower\u001b[0m\u001b[1;33m(\u001b[0m\u001b[1;33m)\u001b[0m\u001b[1;33m,\u001b[0m \u001b[1;34m\"Variables are the same!\"\u001b[0m\u001b[1;33m\u001b[0m\u001b[1;33m\u001b[0m\u001b[0m\n\u001b[0m",
      "\u001b[1;31mAssertionError\u001b[0m: Variables are the same!"
     ]
    }
   ],
   "source": [
    "eggs = 'hello'\n",
    "bacon = 'hello'\n",
    "assert eggs.lower() != bacon.lower(), \"Variables are the same!\""
   ]
  },
  {
   "cell_type": "code",
   "execution_count": 4,
   "id": "8efb0323-8bea-4f63-bdec-c53f5ab8bd72",
   "metadata": {},
   "outputs": [
    {
     "ename": "AssertionError",
     "evalue": "Variables are the same!",
     "output_type": "error",
     "traceback": [
      "\u001b[1;31m---------------------------------------------------------------------------\u001b[0m",
      "\u001b[1;31mAssertionError\u001b[0m                            Traceback (most recent call last)",
      "\u001b[1;32m~\\AppData\\Local\\Temp/ipykernel_16428/893878202.py\u001b[0m in \u001b[0;36m<module>\u001b[1;34m\u001b[0m\n\u001b[0;32m      1\u001b[0m \u001b[0meggs\u001b[0m \u001b[1;33m=\u001b[0m \u001b[1;34m'goodbye'\u001b[0m\u001b[1;33m\u001b[0m\u001b[1;33m\u001b[0m\u001b[0m\n\u001b[0;32m      2\u001b[0m \u001b[0mbacon\u001b[0m \u001b[1;33m=\u001b[0m \u001b[1;34m'GOODbye'\u001b[0m\u001b[1;33m\u001b[0m\u001b[1;33m\u001b[0m\u001b[0m\n\u001b[1;32m----> 3\u001b[1;33m \u001b[1;32massert\u001b[0m \u001b[0meggs\u001b[0m\u001b[1;33m.\u001b[0m\u001b[0mlower\u001b[0m\u001b[1;33m(\u001b[0m\u001b[1;33m)\u001b[0m \u001b[1;33m!=\u001b[0m \u001b[0mbacon\u001b[0m\u001b[1;33m.\u001b[0m\u001b[0mlower\u001b[0m\u001b[1;33m(\u001b[0m\u001b[1;33m)\u001b[0m\u001b[1;33m,\u001b[0m \u001b[1;34m\"Variables are the same!\"\u001b[0m\u001b[1;33m\u001b[0m\u001b[1;33m\u001b[0m\u001b[0m\n\u001b[0m",
      "\u001b[1;31mAssertionError\u001b[0m: Variables are the same!"
     ]
    }
   ],
   "source": [
    "eggs = 'goodbye'\n",
    "bacon = 'GOODbye'\n",
    "assert eggs.lower() != bacon.lower(), \"Variables are the same!\""
   ]
  },
  {
   "cell_type": "markdown",
   "id": "11e6aba6-278c-4f03-ba91-92a94f3cb91f",
   "metadata": {},
   "source": [
    "##### 3. Create an assert statement that throws an AssertionError every time."
   ]
  },
  {
   "cell_type": "code",
   "execution_count": 5,
   "id": "b7bfa5ae-8ed1-4ae5-8eb8-77faabba7042",
   "metadata": {},
   "outputs": [
    {
     "ename": "AssertionError",
     "evalue": "this assert statement throws an AssertionError every time",
     "output_type": "error",
     "traceback": [
      "\u001b[1;31m---------------------------------------------------------------------------\u001b[0m",
      "\u001b[1;31mAssertionError\u001b[0m                            Traceback (most recent call last)",
      "\u001b[1;32m~\\AppData\\Local\\Temp/ipykernel_16428/252901885.py\u001b[0m in \u001b[0;36m<module>\u001b[1;34m\u001b[0m\n\u001b[1;32m----> 1\u001b[1;33m \u001b[1;32massert\u001b[0m \u001b[1;32mFalse\u001b[0m\u001b[1;33m,\u001b[0m \u001b[1;34m\"this assert statement throws an AssertionError every time\"\u001b[0m\u001b[1;33m\u001b[0m\u001b[1;33m\u001b[0m\u001b[0m\n\u001b[0m",
      "\u001b[1;31mAssertionError\u001b[0m: this assert statement throws an AssertionError every time"
     ]
    }
   ],
   "source": [
    "assert False, \"this assert statement throws an AssertionError every time\""
   ]
  },
  {
   "cell_type": "markdown",
   "id": "07ff6f34-28e3-4aa4-92e2-4ad7c5830abc",
   "metadata": {},
   "source": [
    "##### 4. What are the two lines that must be present in your software in order to call logging.debug()?"
   ]
  },
  {
   "cell_type": "code",
   "execution_count": 1,
   "id": "57734806-28ac-4433-9c46-ac4fa143ff13",
   "metadata": {},
   "outputs": [],
   "source": [
    "import logging\n",
    "FORMAT = '%(asctime)s %(name)s %(levelname)s %(message)s'\n",
    "logging.basicConfig(level = logging.DEBUG, format= FORMAT)"
   ]
  },
  {
   "cell_type": "code",
   "execution_count": 2,
   "id": "7101f50a-3f2c-4862-bd04-46fe24cb2590",
   "metadata": {},
   "outputs": [
    {
     "name": "stderr",
     "output_type": "stream",
     "text": [
      "2022-01-15 17:52:44,681 root DEBUG Hello debug\n"
     ]
    }
   ],
   "source": [
    "logging.debug(\"Hello debug\")"
   ]
  },
  {
   "cell_type": "markdown",
   "id": "685fc697-6f98-4c36-867e-91a70a7f2e44",
   "metadata": {},
   "source": [
    "##### 5. What are the two lines that your program must have in order to have logging.debug() send a logging message to a file named programLog.txt?"
   ]
  },
  {
   "cell_type": "code",
   "execution_count": 3,
   "id": "f8ab5fb4-3729-4b29-9e33-e97716c0b1ac",
   "metadata": {},
   "outputs": [],
   "source": [
    "import logging\n",
    "FORMAT = '%(asctime)s %(name)s %(levelname)s %(message)s'\n",
    "logging.basicConfig(level = logging.DEBUG, format= FORMAT, file='programLog.txt')"
   ]
  },
  {
   "cell_type": "code",
   "execution_count": 4,
   "id": "0a8273eb-9f87-4204-8252-c81b93987307",
   "metadata": {},
   "outputs": [
    {
     "name": "stderr",
     "output_type": "stream",
     "text": [
      "2022-01-15 17:52:46,277 root DEBUG Write in log\n"
     ]
    }
   ],
   "source": [
    "logging.debug(\"Write in log\")"
   ]
  },
  {
   "cell_type": "markdown",
   "id": "5c1b0af0-e0f1-48d7-ada4-ebeb1b3e02e2",
   "metadata": {},
   "source": [
    "##### 6. What are the five levels of logging?\n",
    "INFO, DEBUG, WARNING, CRITICAL, ERROR\n"
   ]
  },
  {
   "cell_type": "markdown",
   "id": "11ef9a89-4c24-484e-baf2-4925cdeed23d",
   "metadata": {},
   "source": [
    "##### 7. What line of code would you add to your software to disable all logging messages?\n",
    "logging.disable(level=CRITICAL)\n"
   ]
  },
  {
   "cell_type": "code",
   "execution_count": 6,
   "id": "3a585acc-c40c-4dd0-8971-374102bc13d7",
   "metadata": {},
   "outputs": [],
   "source": [
    "logging.disable(level = logging.CRITICAL)"
   ]
  },
  {
   "cell_type": "markdown",
   "id": "3443a5bc-7296-45a4-b0da-7768e0cb56c1",
   "metadata": {},
   "source": [
    "##### 8.Why is using logging messages better than using print() to display the same message?\n",
    "Using logging messages is better, because it has more functionality than print. It records all the events as well as other information like module name and line number.\n"
   ]
  },
  {
   "cell_type": "markdown",
   "id": "850ce94d-0a93-4382-a175-7b8f049dc07a",
   "metadata": {},
   "source": [
    "##### 9. What are the differences between the Step Over, Step In, and Step Out buttons in the debugger?\n",
    "Step Over advances the debugger over a line and if a line contains a function,  it will execute it and return the result without debugging each line of a function. Step Into will enter the function and will do line-by-line debugging. Step Out will execute all remaining code in a function without going line-by-line and will exit it.\n"
   ]
  },
  {
   "cell_type": "markdown",
   "id": "6037959f-e6ad-437b-8e02-4680e07ef2c7",
   "metadata": {},
   "source": [
    "##### 10.After you click Continue, when will the debugger stop ?\n",
    "The debugger stops at the next breakpoint or the end of the program.\n"
   ]
  },
  {
   "cell_type": "markdown",
   "id": "c44feae8-d68f-4e3c-a4f3-f02274369733",
   "metadata": {},
   "source": [
    "##### 11. What is the concept of a breakpoint?\n",
    "Breakpoint makes the debugger to stop a program at the line where it placed. It is used for debugging purposes to see where possible error occurs in the code.\n"
   ]
  }
 ],
 "metadata": {
  "kernelspec": {
   "display_name": "Python 3 (ipykernel)",
   "language": "python",
   "name": "python3"
  },
  "language_info": {
   "codemirror_mode": {
    "name": "ipython",
    "version": 3
   },
   "file_extension": ".py",
   "mimetype": "text/x-python",
   "name": "python",
   "nbconvert_exporter": "python",
   "pygments_lexer": "ipython3",
   "version": "3.7.11"
  }
 },
 "nbformat": 4,
 "nbformat_minor": 5
}
