{
 "cells": [
  {
   "cell_type": "markdown",
   "id": "82b41f7f-253a-4833-a869-2212c4b02619",
   "metadata": {},
   "source": [
    "#### Assignment 12"
   ]
  },
  {
   "cell_type": "markdown",
   "id": "8268b835-971d-4a4b-8991-b9c7094d09e1",
   "metadata": {},
   "source": [
    "##### 1. In what modes should the PdfFileReader() and PdfFileWriter() File objects will be opened?\n",
    "PdfFileReader() should be opened in read-binary 'rb', and PdfFileWriter() should be opened in write-binary mode 'wb'. \n"
   ]
  },
  {
   "cell_type": "markdown",
   "id": "97d1fc63-06b6-4d56-8f9e-c1ab9fd39c2c",
   "metadata": {},
   "source": [
    "##### 2. From a PdfFileReader object, how do you get a Page object for page 5?"
   ]
  },
  {
   "cell_type": "code",
   "execution_count": 7,
   "id": "448e44bc-6068-470d-a42b-aa07866ecdbf",
   "metadata": {},
   "outputs": [],
   "source": [
    "from PyPDF2 import PdfFileWriter\n",
    "pdf=PdfFileWriter()\n",
    "file=open(\"filename.pdf\",\"wb\")\n",
    "for i in range(5):\n",
    "    pdf.addBlankPage(100,200)\n",
    "pdf.write(file)\n",
    "file.close()"
   ]
  },
  {
   "cell_type": "code",
   "execution_count": 8,
   "id": "99a043f9-6577-446c-8561-3d60d7a422ad",
   "metadata": {},
   "outputs": [],
   "source": [
    "pdf_file = open('filename.pdf', 'rb')\n",
    "reader = PyPDF2.PdfFileReader(pdf_file)\n",
    "page = reader.getPage(1)"
   ]
  },
  {
   "cell_type": "markdown",
   "id": "25718c72-7167-457e-896a-cfa8d043650d",
   "metadata": {},
   "source": [
    "##### 3. What PdfFileReader variable stores the number of pages in the PDF document?\n",
    "The number of pages is stored in numPages attribute of pdfFileReader object."
   ]
  },
  {
   "cell_type": "code",
   "execution_count": 10,
   "id": "b80c6634-b8dd-433b-aa54-1e838933fdf3",
   "metadata": {},
   "outputs": [
    {
     "data": {
      "text/plain": [
       "5"
      ]
     },
     "execution_count": 10,
     "metadata": {},
     "output_type": "execute_result"
    }
   ],
   "source": [
    "reader.numPages"
   ]
  },
  {
   "cell_type": "markdown",
   "id": "f802398f-0930-4a93-b637-81836474e226",
   "metadata": {},
   "source": [
    "##### 4. If a PdfFileReader object's PDF is encrypted with the password swordfish, what must you do before you can obtain Page objects from it?\n",
    "File has to be decrypted: <br/>\n",
    "pdf_file = open('encrypted.pdf', 'rb') <br/>\n",
    "reader = PyPDF2.pdfFileReader(pdf_file) <br/>\n",
    "reader.decrypt('swordfish')\n"
   ]
  },
  {
   "cell_type": "code",
   "execution_count": null,
   "id": "0e1337fd-ccdb-40a8-861b-a66c00214d02",
   "metadata": {},
   "outputs": [],
   "source": [
    "# pdf_file = open('encrypted.pdf', 'rb')\n",
    "# reader = PyPDF2.pdfFileReader(pdf_file)\n",
    "# reader.decrypt('swordfish')"
   ]
  },
  {
   "cell_type": "markdown",
   "id": "da2e88a7-c293-48d7-a39b-47b79cef385f",
   "metadata": {},
   "source": [
    "##### 5. What methods do you use to rotate a page?\n",
    "rotateClockwise() and rotateCounterClockwise() with specified number of degrees to rotate.\n"
   ]
  },
  {
   "cell_type": "code",
   "execution_count": null,
   "id": "d57737c4-0b43-4885-a12f-a82eed70f2bf",
   "metadata": {},
   "outputs": [],
   "source": [
    "# rotateClockwise()\n",
    "# rotateCounterClockwise()"
   ]
  },
  {
   "cell_type": "markdown",
   "id": "124688bb-095c-49d0-a11b-94227e64c849",
   "metadata": {},
   "source": [
    "##### 6. What is the difference between a Run object and a Paragraph object?\n",
    "Paragraph object is represented by paragraphs in the document and separated by return or enter. Run object represents parts of text in the paragraph that has same font style continuously."
   ]
  },
  {
   "cell_type": "markdown",
   "id": "5bbf512a-afb5-4d4e-92e1-b9c3281b2291",
   "metadata": {},
   "source": [
    "##### 7. How do you obtain a list of Paragraph objects for a Document object that’s stored in a variable named doc?\n",
    "doc.paragraphs"
   ]
  },
  {
   "cell_type": "code",
   "execution_count": null,
   "id": "025bc76b-bf88-4c9c-bcb2-893eb64fefce",
   "metadata": {},
   "outputs": [],
   "source": [
    "# doc.paragraphs"
   ]
  },
  {
   "cell_type": "markdown",
   "id": "eb982d35-0740-44c4-a015-7f9aed423167",
   "metadata": {},
   "source": [
    "##### 8. What type of object has bold, underline, italic, strike, and outline variables?\n",
    "Run object\n"
   ]
  },
  {
   "cell_type": "markdown",
   "id": "2d7826b4-ef13-4ef0-94de-0a8defe7a1e1",
   "metadata": {},
   "source": [
    "##### 9. What is the difference between False, True, and None for the bold variable?\n",
    "If set to true for bold, Run will be bold, for False – Run will be not bold. For None Run will be default to style's boldness.\n"
   ]
  },
  {
   "cell_type": "markdown",
   "id": "be549d52-433f-474b-83c9-7f5474ff29e3",
   "metadata": {},
   "source": [
    "##### 10. How do you create a Document object for a new Word document?\n",
    "doc = docx.Document()\n"
   ]
  },
  {
   "cell_type": "code",
   "execution_count": 1,
   "id": "26f79f03-245d-4d69-ae9b-cb6e2d3fab9a",
   "metadata": {},
   "outputs": [],
   "source": [
    "import docx\n",
    "doc = docx.Document()"
   ]
  },
  {
   "cell_type": "code",
   "execution_count": 2,
   "id": "e273616c-2e9b-4da5-b1fc-1bbfada6300e",
   "metadata": {},
   "outputs": [
    {
     "data": {
      "text/plain": [
       "docx.document.Document"
      ]
     },
     "execution_count": 2,
     "metadata": {},
     "output_type": "execute_result"
    }
   ],
   "source": [
    "type(doc)"
   ]
  },
  {
   "cell_type": "markdown",
   "id": "75b7ef45-76a1-4a78-a6db-6a5685f68075",
   "metadata": {},
   "source": [
    "##### 11. How do you add a paragraph with the text 'Hello, there!' to a Document object stored in a variable named doc?\n",
    "doc.add_paragraph('Hello, there!')\n"
   ]
  },
  {
   "cell_type": "code",
   "execution_count": 3,
   "id": "0e16268f-6dbd-4434-b3f9-1e6f4ff56e14",
   "metadata": {},
   "outputs": [
    {
     "data": {
      "text/plain": [
       "<docx.text.paragraph.Paragraph at 0x1b596801248>"
      ]
     },
     "execution_count": 3,
     "metadata": {},
     "output_type": "execute_result"
    }
   ],
   "source": [
    "doc.add_paragraph('Hello, there!')"
   ]
  },
  {
   "cell_type": "code",
   "execution_count": 6,
   "id": "88bfa52e-4262-4096-a571-6ef330b0b8a1",
   "metadata": {},
   "outputs": [
    {
     "name": "stdout",
     "output_type": "stream",
     "text": [
      "Hello, there!\n"
     ]
    }
   ],
   "source": [
    "for p in doc.paragraphs:\n",
    "    print(p.text)"
   ]
  },
  {
   "cell_type": "markdown",
   "id": "142af2cf-f253-4945-b00c-148f1349a023",
   "metadata": {},
   "source": [
    "##### 12. What integers represent the levels of headings available in Word documents?\n",
    "Range from 0 to 9 in docx, where 0 is the title for the document"
   ]
  }
 ],
 "metadata": {
  "kernelspec": {
   "display_name": "Python 3 (ipykernel)",
   "language": "python",
   "name": "python3"
  },
  "language_info": {
   "codemirror_mode": {
    "name": "ipython",
    "version": 3
   },
   "file_extension": ".py",
   "mimetype": "text/x-python",
   "name": "python",
   "nbconvert_exporter": "python",
   "pygments_lexer": "ipython3",
   "version": "3.7.12"
  }
 },
 "nbformat": 4,
 "nbformat_minor": 5
}
