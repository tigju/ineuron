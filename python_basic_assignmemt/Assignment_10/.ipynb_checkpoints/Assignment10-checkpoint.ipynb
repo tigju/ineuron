{
 "cells": [
  {
   "cell_type": "markdown",
   "id": "3d12e66c-37eb-4929-ae67-d2c7d67e761f",
   "metadata": {},
   "source": [
    "#### Assignment 10 (Shutil)"
   ]
  },
  {
   "cell_type": "markdown",
   "id": "a9e8cf81-880c-4731-90f8-91f80653af65",
   "metadata": {},
   "source": [
    "##### 1. How do you distinguish between shutil.copy() and shutil.copytree()?\n",
    "shutil.copy() copies only a specified file, <br> shutil.copytree() copies the whole directory including all files and folders it contains.\n"
   ]
  },
  {
   "cell_type": "markdown",
   "id": "fbf96c76-fcbd-489d-9df8-bbde015f8bbe",
   "metadata": {},
   "source": [
    "##### 2. What function is used to rename files?\n",
    "shutil.move() used to rename files.\n"
   ]
  },
  {
   "cell_type": "markdown",
   "id": "89cbf4e2-8fee-460a-bdad-8c35f20b20a6",
   "metadata": {},
   "source": [
    "##### 3. What is the difference between the delete functions in the send2trash and shutil modules?\n",
    "send2trash will send the file or folder to a recycle bin, <br> shutil will remove it permanently from the system.\n"
   ]
  },
  {
   "cell_type": "markdown",
   "id": "2325c85a-6342-4819-a687-37d8a07d6e17",
   "metadata": {},
   "source": [
    "##### 4.ZipFile objects have a close() method just like File objects’ close() method. What ZipFile method is equivalent to File objects’ open() method?\n",
    "ZipFile() is the equivalent to open() method.\n"
   ]
  },
  {
   "cell_type": "markdown",
   "id": "d4aad721-e05a-4268-b56a-828192e0d80d",
   "metadata": {},
   "source": [
    "##### 5. Create a programme that searches a folder tree for files with a certain file extension (such as .pdf or .jpg). Copy these files from whatever location they are in to a new folder.\n"
   ]
  },
  {
   "cell_type": "code",
   "execution_count": 33,
   "id": "9cff760c-2935-43ab-bf06-e8b670801c90",
   "metadata": {},
   "outputs": [
    {
     "data": {
      "text/plain": [
       "'new\\\\'"
      ]
     },
     "execution_count": 33,
     "metadata": {},
     "output_type": "execute_result"
    }
   ],
   "source": [
    "import os\n",
    "import shutil\n",
    "\n",
    "source = 'C:\\\\Users\\\\tigju\\\\Desktop\\\\api'\n",
    "destination = 'new\\\\'\n",
    "\n",
    "def include_patterns(pattern):\n",
    "    '''\n",
    "    pass the list of extentions which want to keep\n",
    "    '''\n",
    "    no_ext = set()\n",
    "    ext = set()\n",
    "    new_pat = tuple(pattern)\n",
    "    for file in os.listdir(source):\n",
    "        file_ext = file.split('.')\n",
    "\n",
    "        if len(file_ext) < 2:\n",
    "            no_ext.add(file_ext[0])\n",
    "            \n",
    "        elif file_ext[1].lower() not in new_pat:\n",
    "            ext.add(file_ext[1])\n",
    "            \n",
    "    rem_ext = [\"*.\" + e for e in ext]\n",
    "    full_list = rem_ext + list(no_ext)\n",
    "    return full_list\n",
    "\n",
    "\n",
    "rem_ext = include_patterns(['pdf', 'jpg'])\n",
    "shutil.copytree(source, destination, ignore=shutil.ignore_patterns(*rem_ext))"
   ]
  },
  {
   "cell_type": "code",
   "execution_count": 34,
   "id": "93282b52-74f6-4fc4-a9d9-7018777f3856",
   "metadata": {},
   "outputs": [
    {
     "data": {
      "text/plain": [
       "['.env',\n",
       " '.git',\n",
       " '.gitignore',\n",
       " 'app.py',\n",
       " 'architecture.JPG',\n",
       " 'hack-comments.csv',\n",
       " 'hack-comments.db',\n",
       " 'LICENSE',\n",
       " 'models.py',\n",
       " 'Pipfile',\n",
       " 'Pipfile.lock',\n",
       " 'plotly graph.JPG',\n",
       " 'Procfile',\n",
       " 'README.md',\n",
       " 'requirements.txt',\n",
       " '__pycache__']"
      ]
     },
     "execution_count": 34,
     "metadata": {},
     "output_type": "execute_result"
    }
   ],
   "source": [
    "os.listdir(source)"
   ]
  },
  {
   "cell_type": "code",
   "execution_count": 35,
   "id": "1116a622-23b7-41d1-812e-8ae53ad55d0a",
   "metadata": {},
   "outputs": [
    {
     "data": {
      "text/plain": [
       "['architecture.JPG', 'plotly graph.JPG']"
      ]
     },
     "execution_count": 35,
     "metadata": {},
     "output_type": "execute_result"
    }
   ],
   "source": [
    "os.listdir('new')"
   ]
  },
  {
   "cell_type": "code",
   "execution_count": null,
   "id": "2daeaf77-2a49-498c-9d6a-f01744344a11",
   "metadata": {},
   "outputs": [],
   "source": []
  }
 ],
 "metadata": {
  "kernelspec": {
   "display_name": "Python 3 (ipykernel)",
   "language": "python",
   "name": "python3"
  },
  "language_info": {
   "codemirror_mode": {
    "name": "ipython",
    "version": 3
   },
   "file_extension": ".py",
   "mimetype": "text/x-python",
   "name": "python",
   "nbconvert_exporter": "python",
   "pygments_lexer": "ipython3",
   "version": "3.7.11"
  }
 },
 "nbformat": 4,
 "nbformat_minor": 5
}
