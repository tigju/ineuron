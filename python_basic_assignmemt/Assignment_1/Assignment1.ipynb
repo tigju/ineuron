{
 "cells": [
  {
   "cell_type": "markdown",
   "id": "465aff3d-a90d-4040-a10b-2250c40b6836",
   "metadata": {},
   "source": [
    "#### Assignment 1"
   ]
  },
  {
   "cell_type": "markdown",
   "id": "8243a29b-f512-44da-b9a7-48fcdcbd38b7",
   "metadata": {},
   "source": [
    "##### 1. In the below elements which of them are values or an expression? eg:- values can be integer or string and expressions will be mathematical operators.<br>\n",
    "'hello'<br>\n",
    "   -87.8<br>\n",
    "   *<br>\n",
    "   -<br>\n",
    "   /<br>\n",
    "   +<br>\n",
    "   6<br>\n",
    "   \n",
    "Answer:<br>\n",
    "Values: 'hello', -87.8, 6  \n",
    "Expressions: *, -, /, +"
   ]
  },
  {
   "cell_type": "markdown",
   "id": "8dfeca33-51c4-4012-b158-67ac3a918232",
   "metadata": {},
   "source": [
    "##### 2. What is the difference between string and variable?\n",
    "String is a value type, variable is a memory in a disk where any value can be stored"
   ]
  },
  {
   "cell_type": "markdown",
   "id": "16e2e632-f887-49c5-935c-b3eba11ce73f",
   "metadata": {},
   "source": [
    "##### 3. Describe three different data types.\n",
    "String, number, boolean"
   ]
  },
  {
   "cell_type": "markdown",
   "id": "a8f867be-9d9a-4fe5-b5ae-b5cb6feb546d",
   "metadata": {},
   "source": [
    "##### 4. What is an expression made up of? What do all expressions do?\n",
    "Expression made up of variables (operands), operations and function calls. Expressions get evaluated to a one value."
   ]
  },
  {
   "cell_type": "markdown",
   "id": "cbdc2578-5a8a-4f62-ac4b-ad3b728bf545",
   "metadata": {},
   "source": [
    "##### 5. This assignment statements, like spam = 10. What is the difference between an expression and a statement?\n",
    "Statements represent an action or a command like print statement, assignment statements, break statement, if , if..else, while statement. They don’t return anything. Expression is an instruction or a unit of code that contains values, operations, function calls and resolves to a single value."
   ]
  },
  {
   "cell_type": "markdown",
   "id": "806f0a9b-5203-4556-85e0-a775b212cc7a",
   "metadata": {},
   "source": [
    "##### 6. After running the following code, what does the variable bacon contain?"
   ]
  },
  {
   "cell_type": "code",
   "execution_count": 3,
   "id": "0ea23da8-9511-4abf-825a-cc213a68f21e",
   "metadata": {},
   "outputs": [
    {
     "data": {
      "text/plain": [
       "23"
      ]
     },
     "execution_count": 3,
     "metadata": {},
     "output_type": "execute_result"
    }
   ],
   "source": [
    "# variable bacon contain 23\n",
    "bacon = 22\n",
    "bacon + 1"
   ]
  },
  {
   "cell_type": "markdown",
   "id": "00d62f7e-cd9d-410e-ab1d-e37d076cea71",
   "metadata": {},
   "source": [
    "##### 7. What should the values of the following two terms be?\n",
    "'spam' + 'spamspam'<br>\n",
    "'spam' * 3"
   ]
  },
  {
   "cell_type": "code",
   "execution_count": 6,
   "id": "6cdd6ef3-dd73-44f9-be92-4381394fd769",
   "metadata": {},
   "outputs": [
    {
     "name": "stdout",
     "output_type": "stream",
     "text": [
      "spamspamspam\n",
      "spamspamspam\n"
     ]
    }
   ],
   "source": [
    "# will print 'spamspamspam'\n",
    "print('spam' + 'spamspam')\n",
    "\n",
    "# will print 'spamspamspam'\n",
    "print('spam' * 3)"
   ]
  },
  {
   "cell_type": "markdown",
   "id": "02b48f8f-a92d-4b92-9185-ef7f3d94fec2",
   "metadata": {},
   "source": [
    "##### 8. Why is eggs a valid variable name while 100 is invalid?\n",
    "Variable names can’t start with the number."
   ]
  },
  {
   "cell_type": "markdown",
   "id": "8b4deff0-f458-4ca6-918a-08c19f3e5e08",
   "metadata": {},
   "source": [
    "##### 9. What three functions can be used to get the integer, floating-point number, or string version of a value?\n",
    "int() , float(), str()"
   ]
  },
  {
   "cell_type": "markdown",
   "id": "91f4957c-1f54-49ac-8be2-d2411128fb65",
   "metadata": {
    "tags": []
   },
   "source": [
    "##### 10. Why does this expression cause an error? How can you fix it? 'I have eaten ' + 99 + ' burritos.'\n",
    "Python doesn’t convert value types by default, it has to be done manually:"
   ]
  },
  {
   "cell_type": "code",
   "execution_count": 9,
   "id": "6fabb3d1-f531-4a94-bcec-bf90678181d4",
   "metadata": {},
   "outputs": [
    {
     "name": "stdout",
     "output_type": "stream",
     "text": [
      "I have eaten  99 burritos.\n",
      "I have eaten  99 burritos.\n"
     ]
    }
   ],
   "source": [
    "#put number in str()\n",
    "print('I have eaten  ' + str(99) + ' burritos.')\n",
    "\n",
    "# Or put number in quotes\n",
    "print('I have eaten  ' + '99' + ' burritos.')"
   ]
  },
  {
   "cell_type": "code",
   "execution_count": null,
   "id": "eaf3ec57-9bfd-4aad-9a52-ce67ced0c625",
   "metadata": {},
   "outputs": [],
   "source": []
  }
 ],
 "metadata": {
  "kernelspec": {
   "display_name": "Python 3 (ipykernel)",
   "language": "python",
   "name": "python3"
  },
  "language_info": {
   "codemirror_mode": {
    "name": "ipython",
    "version": 3
   },
   "file_extension": ".py",
   "mimetype": "text/x-python",
   "name": "python",
   "nbconvert_exporter": "python",
   "pygments_lexer": "ipython3",
   "version": "3.7.11"
  }
 },
 "nbformat": 4,
 "nbformat_minor": 5
}
