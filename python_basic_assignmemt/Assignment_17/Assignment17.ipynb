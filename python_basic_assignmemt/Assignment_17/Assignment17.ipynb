{
 "cells": [
  {
   "cell_type": "markdown",
   "id": "c629a8f3-cde3-4be9-9f8a-9b05bfd03928",
   "metadata": {},
   "source": [
    "#### Assignment 17"
   ]
  },
  {
   "cell_type": "markdown",
   "id": "0406a08d-d23e-45d5-828e-193013aa3ecb",
   "metadata": {},
   "source": [
    "##### 1. Assign the value 7 to the variable guess_me. Then, write the conditional tests (if, else, and elif) to print the string 'too low' if guess_me is less than 7, 'too high' if greater than 7, and 'just right' if equal to 7."
   ]
  },
  {
   "cell_type": "code",
   "execution_count": 1,
   "id": "52177922-3436-42ce-b186-3ff04db40b8b",
   "metadata": {},
   "outputs": [
    {
     "name": "stdout",
     "output_type": "stream",
     "text": [
      "just right\n"
     ]
    }
   ],
   "source": [
    "guess_me = 7\n",
    "if guess_me < 7:\n",
    "     print('too low')\n",
    "elif guess_me > 7:\n",
    "     print('too high')\n",
    "else:\n",
    "     print('just right')"
   ]
  },
  {
   "cell_type": "markdown",
   "id": "fa6a075d-889b-40f3-a4de-cd3c48cb34cd",
   "metadata": {},
   "source": [
    "##### 2. Assign the value 7 to the variable guess_me and the value 1 to the variable start. Write a while loop that compares start with guess_me. Print too low if start is less than guess me. If start equals guess_me, print 'found it!' and exit the loop. If start is greater than guess_me, print 'oops' and exit the loop. Increment start at the end of the loop."
   ]
  },
  {
   "cell_type": "code",
   "execution_count": 3,
   "id": "5266a26f-83dc-455b-b936-8aef4c43aea1",
   "metadata": {},
   "outputs": [
    {
     "name": "stdout",
     "output_type": "stream",
     "text": [
      "too low\n",
      "too low\n",
      "too low\n",
      "too low\n",
      "too low\n",
      "too low\n",
      "found it!\n"
     ]
    }
   ],
   "source": [
    "guess_me = 7\n",
    "start = 1\n",
    "while True:\n",
    "    if guess_me > start:\n",
    "        print('too low')\n",
    "    if guess_me == start:\n",
    "        print('found it!')\n",
    "        break\n",
    "    if guess_me < start:\n",
    "        print('oops')\n",
    "        break\n",
    "    start = start + 1"
   ]
  },
  {
   "cell_type": "markdown",
   "id": "432b3b8f-a833-415a-8ca8-623a80f96d9b",
   "metadata": {},
   "source": [
    "##### 3. Print the following values of the list [3, 2, 1, 0] using a for loop."
   ]
  },
  {
   "cell_type": "code",
   "execution_count": 4,
   "id": "2392d38a-cce3-443c-a720-05fa708daad7",
   "metadata": {},
   "outputs": [
    {
     "name": "stdout",
     "output_type": "stream",
     "text": [
      "3\n",
      "2\n",
      "1\n",
      "0\n"
     ]
    }
   ],
   "source": [
    "for i in [3,2,1,0]:\n",
    "     print(i)\n"
   ]
  },
  {
   "cell_type": "markdown",
   "id": "783da641-a5a2-474c-a62d-4597f4d81095",
   "metadata": {},
   "source": [
    "##### 4. Use a list comprehension to make a list of the even numbers in range(10)"
   ]
  },
  {
   "cell_type": "code",
   "execution_count": 6,
   "id": "65157f2b-6d5b-41df-a09f-ac83cdb0d15a",
   "metadata": {},
   "outputs": [
    {
     "data": {
      "text/plain": [
       "[0, 2, 4, 6, 8]"
      ]
     },
     "execution_count": 6,
     "metadata": {},
     "output_type": "execute_result"
    }
   ],
   "source": [
    "even = [i for i in range(10) if i % 2 == 0] \n",
    "even"
   ]
  },
  {
   "cell_type": "markdown",
   "id": "5d822182-bac1-4890-9f33-0317ae0c16cf",
   "metadata": {},
   "source": [
    "##### 5. Use a dictionary comprehension to create the dictionary squares. Use range(10) to return the keys, and use the square of each key as its value."
   ]
  },
  {
   "cell_type": "code",
   "execution_count": 7,
   "id": "7d4880b3-e4c3-4f03-9094-fe83a3f1afdc",
   "metadata": {},
   "outputs": [
    {
     "data": {
      "text/plain": [
       "{0: 0, 1: 1, 2: 4, 3: 9, 4: 16, 5: 25, 6: 36, 7: 49, 8: 64, 9: 81}"
      ]
     },
     "execution_count": 7,
     "metadata": {},
     "output_type": "execute_result"
    }
   ],
   "source": [
    "squares = { i: i*i for i in range(10)}\n",
    "squares"
   ]
  },
  {
   "cell_type": "markdown",
   "id": "ebeb93f3-90d0-4211-b383-3b7fd5f5f4c8",
   "metadata": {},
   "source": [
    "##### 6. Construct the set odd from the odd numbers in the range using a set comprehension (10)."
   ]
  },
  {
   "cell_type": "code",
   "execution_count": 8,
   "id": "958f1891-81da-4e10-9c8b-1e8433b1f365",
   "metadata": {},
   "outputs": [
    {
     "data": {
      "text/plain": [
       "{1, 3, 5, 7, 9}"
      ]
     },
     "execution_count": 8,
     "metadata": {},
     "output_type": "execute_result"
    }
   ],
   "source": [
    "odd = {i for i in range(10) if i % 2 != 0} \n",
    "odd"
   ]
  },
  {
   "cell_type": "markdown",
   "id": "1145a97c-f31f-4b1f-aafa-291da41eb439",
   "metadata": {},
   "source": [
    "##### 7. Use a generator comprehension to return the string 'Got ' and a number for the numbers in range(10). Iterate through this by using a for loop."
   ]
  },
  {
   "cell_type": "code",
   "execution_count": 11,
   "id": "a7ad6ae7-5ab7-48fc-808c-1ceaeeffce66",
   "metadata": {},
   "outputs": [
    {
     "name": "stdout",
     "output_type": "stream",
     "text": [
      "<class 'generator'>\n",
      "Got 0\n",
      "Got 1\n",
      "Got 2\n",
      "Got 3\n",
      "Got 4\n",
      "Got 5\n",
      "Got 6\n",
      "Got 7\n",
      "Got 8\n",
      "Got 9\n"
     ]
    }
   ],
   "source": [
    "gen = (f'Got {i}' for i in range(10))\n",
    "print(type(gen))\n",
    "for g in gen:\n",
    "     print(g)"
   ]
  },
  {
   "cell_type": "markdown",
   "id": "ba850742-68b1-411b-94fc-c0a28e9d8851",
   "metadata": {},
   "source": [
    "##### 8. Define a function called good that returns the list ['Harry', 'Ron', 'Hermione']."
   ]
  },
  {
   "cell_type": "code",
   "execution_count": 12,
   "id": "ecc1e296-e610-4407-8f9f-45cbfb756aef",
   "metadata": {},
   "outputs": [
    {
     "data": {
      "text/plain": [
       "['Harry', 'Ron', 'Hermione']"
      ]
     },
     "execution_count": 12,
     "metadata": {},
     "output_type": "execute_result"
    }
   ],
   "source": [
    "def good():\n",
    "    my_list = ['Harry', 'Ron', 'Hermione']\n",
    "    return my_list\n",
    "\n",
    "good()"
   ]
  },
  {
   "cell_type": "markdown",
   "id": "e2125958-c1e2-4fb8-9fe7-b5b817d92794",
   "metadata": {},
   "source": [
    "##### 9. Define a generator function called get_odds that returns the odd numbers from range(10). Use a for loop to find and print the third value returned."
   ]
  },
  {
   "cell_type": "code",
   "execution_count": 17,
   "id": "fcb071ac-efde-49bd-b785-0e021fcf8408",
   "metadata": {},
   "outputs": [
    {
     "name": "stdout",
     "output_type": "stream",
     "text": [
      "5\n"
     ]
    }
   ],
   "source": [
    "def get_odds():\n",
    "    for number in range(10):\n",
    "        if number % 2 != 0:\n",
    "            yield number\n",
    "\n",
    "odds = get_odds()\n",
    "index = 2\n",
    "for i, n in enumerate(odds):\n",
    "    if i == index:\n",
    "        print(n)"
   ]
  },
  {
   "cell_type": "markdown",
   "id": "8d12f7d0-570e-4067-b8b3-acf10a991093",
   "metadata": {},
   "source": [
    "##### 10. Define an exception called OopsException. Raise this exception to see what happens. Then write the code to catch this exception and print 'Caught an oops'."
   ]
  },
  {
   "cell_type": "code",
   "execution_count": 21,
   "id": "037b7c77-2506-43b6-882b-ec4e94eae986",
   "metadata": {},
   "outputs": [
    {
     "name": "stdout",
     "output_type": "stream",
     "text": [
      "Caught an oops\n"
     ]
    }
   ],
   "source": [
    "def OopsException(name):\n",
    "    if name == 'Julia':\n",
    "        raise Exception('error is ', name)\n",
    "    return name\n",
    "try:\n",
    "     OopsException('Julia')\n",
    "except Exception:\n",
    "     print('Caught an oops')"
   ]
  },
  {
   "cell_type": "markdown",
   "id": "a0a25aed-4b9b-4e5b-a2c7-cc226b8f8839",
   "metadata": {},
   "source": [
    "##### 11. Use zip() to make a dictionary called movies that pairs these lists: titles = ['Creature of Habit', 'Crewel Fate'] and plots = ['A nun turns into a monster', 'A haunted yarn shop']."
   ]
  },
  {
   "cell_type": "code",
   "execution_count": 23,
   "id": "a3e585cd-7ab6-4ad4-847c-1a6dde33ff97",
   "metadata": {},
   "outputs": [
    {
     "data": {
      "text/plain": [
       "{'Creature of Habit': 'A nun turns into a monster',\n",
       " 'Crewel Fate': 'A haunted yarn shop'}"
      ]
     },
     "execution_count": 23,
     "metadata": {},
     "output_type": "execute_result"
    }
   ],
   "source": [
    "titles = ['Creature of Habit', 'Crewel Fate']\n",
    "plots = ['A nun turns into a monster', 'A haunted yarn shop']\n",
    "\n",
    "zipped = zip(titles, plots)\n",
    "movies = dict(zipped)\n",
    "movies"
   ]
  }
 ],
 "metadata": {
  "kernelspec": {
   "display_name": "Python 3 (ipykernel)",
   "language": "python",
   "name": "python3"
  },
  "language_info": {
   "codemirror_mode": {
    "name": "ipython",
    "version": 3
   },
   "file_extension": ".py",
   "mimetype": "text/x-python",
   "name": "python",
   "nbconvert_exporter": "python",
   "pygments_lexer": "ipython3",
   "version": "3.7.12"
  }
 },
 "nbformat": 4,
 "nbformat_minor": 5
}
